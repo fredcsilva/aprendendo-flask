{
 "cells": [
  {
   "cell_type": "markdown",
   "id": "35b92fa9-5871-4fa2-b225-07039a1a8967",
   "metadata": {},
   "source": [
    "# Autenticação de Usuários"
   ]
  },
  {
   "cell_type": "markdown",
   "id": "13d76d50-a1a0-4d85-9ef8-058b8ad3b3d6",
   "metadata": {},
   "source": [
    "Há diversas maneiras de gerenciar usuários em Flask, uma delas é por sessões."
   ]
  },
  {
   "cell_type": "markdown",
   "id": "619eb64e-ec20-41be-8d90-8b51cea87937",
   "metadata": {},
   "source": [
    "### 1. Usuários e Sessões"
   ]
  },
  {
   "cell_type": "markdown",
   "id": "f6ca0bc8-f9bf-4957-a5c4-72ed55990ed0",
   "metadata": {},
   "source": [
    "* **1.1. Verificando o login do usuário na classe controladora (controller) `app.py`**"
   ]
  },
  {
   "cell_type": "markdown",
   "id": "00adab31-4c87-4dbd-b5e9-130882b8ed97",
   "metadata": {},
   "source": [
    "```\n",
    "@app.route(\"/login\")\n",
    "def login():\n",
    "    login_form = forms.LoginForm(request.form)\n",
    "    if request.method == 'POST' and login_form.validade():\n",
    "        username = login_form.username.data\n",
    "        password = login_form.password.data\n",
    "        \n",
    "        myUser = User.query.filter_by(username=username).first()\n",
    "        if myUser is not None and myUser.verify_password(password):\n",
    "            success_message = \"Bem vindo...\"\n",
    "            flash(success_message)\n",
    "            session['username'] = username\n",
    "            return redirect( url_for('index.html') )\n",
    "        else:\n",
    "            error_message = \"Usuário não encontrado.\"\n",
    "            flash(error_message)            \n",
    "        ...\n",
    "    ...\n",
    "```"
   ]
  },
  {
   "cell_type": "markdown",
   "id": "8ecc9c00-a096-4599-86b6-6ce6720cbd31",
   "metadata": {},
   "source": [
    "* **1.2. Criando uma verificação de senha na classe User**"
   ]
  },
  {
   "cell_type": "markdown",
   "id": "3bb58ec4-d25f-4110-9094-9c4a9e618920",
   "metadata": {},
   "source": [
    "```\n",
    "from werkzeug.security import generate_password_hash, check_password_hash\n",
    "...\n",
    "def verify_password(self, password):\n",
    "    return check_password_hash(self.password, password)\n",
    "```"
   ]
  },
  {
   "cell_type": "markdown",
   "id": "44c6fa9f-219c-41b6-972e-eaf1f874f28b",
   "metadata": {},
   "source": [
    "* **2. Restrigindo acesso a URLs para usuários não logado.**"
   ]
  },
  {
   "cell_type": "markdown",
   "id": "9e419619-7033-403c-a1a6-3fb8431fe6ac",
   "metadata": {},
   "source": [
    "```\n",
    "@app.before_request()\n",
    "def before_request():\n",
    "    # Tentando acessar a página \"comment\" sem estar logado: redireciona o usuário para a tela de login\n",
    "    if 'username' not in session and request.endpoint in ['comment']:\n",
    "        return redirect( url_for('login') )\n",
    "    # Tentando acessar as páginas \"login\" e \"create\" sem estar logado: redireciona o usuário para a página inicial\n",
    "    elif 'username' not in session and request.endpoint in ['login', 'create']:\n",
    "        return redirect( url_for('index') )\n",
    "```"
   ]
  }
 ],
 "metadata": {
  "kernelspec": {
   "display_name": "Python 3 (ipykernel)",
   "language": "python",
   "name": "python3"
  },
  "language_info": {
   "codemirror_mode": {
    "name": "ipython",
    "version": 3
   },
   "file_extension": ".py",
   "mimetype": "text/x-python",
   "name": "python",
   "nbconvert_exporter": "python",
   "pygments_lexer": "ipython3",
   "version": "3.8.10"
  }
 },
 "nbformat": 4,
 "nbformat_minor": 5
}
