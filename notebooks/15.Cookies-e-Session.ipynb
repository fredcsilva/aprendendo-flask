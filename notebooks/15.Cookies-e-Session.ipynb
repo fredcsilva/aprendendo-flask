{
 "cells": [
  {
   "cell_type": "markdown",
   "id": "d8dbf806-bdc6-4322-ba06-56c0cbacf1b8",
   "metadata": {},
   "source": [
    "# Cookies e Session"
   ]
  },
  {
   "cell_type": "markdown",
   "id": "aaca00e2-58a0-4435-bf8c-5b0c2604ff65",
   "metadata": {},
   "source": [
    "### 1. Definindo um valor para o `cookie`"
   ]
  },
  {
   "cell_type": "markdown",
   "id": "fe7b63ef-26a1-4526-82c0-7fa001f4068f",
   "metadata": {},
   "source": [
    "* Página HTML index.html\n",
    "A página inicial é uma página HTML chamada `index.html` com um formulário que possui um campo de entrada de texto cujo nome é \"c\": <br/>\n",
    "< form action=\"/setCookie\"><br/>\n",
    "    ...<br/>\n",
    "    < input type=\"text\" name=\"c\" id=\"c\"><br/>\n",
    "    ...<br/>\n",
    "< /form><br/>\n",
    "\n",
    "----------------------------\n",
    "\n",
    "* Grava o cookie e redireciona para a página `setcookie.html` \n",
    "\n",
    "```\n",
    "from flask import make_response, \n",
    "\n",
    "@app.route('/setCookie', methods=['POST'])\n",
    "def setCookie():\n",
    "    resp = make_response(render_template('setcookie.html'))\n",
    "    if request.method == 'POST':\n",
    "        dados = request.form['c']\n",
    "        resp.set_cookie(\"meucookie\", dados)\n",
    "    \n",
    "    return resp\n",
    "```"
   ]
  },
  {
   "cell_type": "markdown",
   "id": "c6774c40-090a-4368-99fe-fc49f638a24f",
   "metadata": {},
   "source": [
    "### 2. Obtendo o valor do `cookie`"
   ]
  },
  {
   "cell_type": "markdown",
   "id": "c007a180-89b1-40b8-a8e1-5c85b4a78bba",
   "metadata": {},
   "source": [
    "```\n",
    "@app.route('/getCookie')\n",
    "def getCookie():\n",
    "    cookie_data = request.cookies.get('meucookie')\n",
    "    return \"Meu cookie: {0}\".format(cookie_data)\n",
    "```"
   ]
  },
  {
   "cell_type": "markdown",
   "id": "ad0f6239-36c9-4789-bfa6-3727d8ee4274",
   "metadata": {},
   "source": [
    "### 3. Session"
   ]
  },
  {
   "cell_type": "markdown",
   "id": "2d7c5eb6-9ad5-4788-b062-d6c390d8ba38",
   "metadata": {},
   "source": [
    "* Obtendo e Gravando na Session do usuário\n",
    "\n",
    "```\n",
    "from flask import session, render_template\n",
    "\n",
    "@app.route(\"/\")\n",
    "def index():\n",
    "    username = None\n",
    "    if username in sessiom:\n",
    "        username = session['username']\n",
    "    else:\n",
    "        session['username'] = request.form['username']\n",
    "        \n",
    "    return render_template('start.html', username=username)\n",
    "```"
   ]
  },
  {
   "cell_type": "code",
   "execution_count": null,
   "id": "21405a25-81e2-4f33-86c3-6adbfdbd9618",
   "metadata": {},
   "outputs": [],
   "source": []
  }
 ],
 "metadata": {
  "kernelspec": {
   "display_name": "Python 3 (ipykernel)",
   "language": "python",
   "name": "python3"
  },
  "language_info": {
   "codemirror_mode": {
    "name": "ipython",
    "version": 3
   },
   "file_extension": ".py",
   "mimetype": "text/x-python",
   "name": "python",
   "nbconvert_exporter": "python",
   "pygments_lexer": "ipython3",
   "version": "3.8.10"
  }
 },
 "nbformat": 4,
 "nbformat_minor": 5
}
