{
 "cells": [
  {
   "cell_type": "raw",
   "id": "3a621db0-11f7-480b-965f-9bde5887d92d",
   "metadata": {},
   "source": [
    "Vídeo 5: # Trabalhando com arquivos estáticos\n",
    "- Crie o diretório \"/static\"\n",
    "- Acrescente o parâmetro 'static_folder'\n",
    "\tapp = Flask(__name__, static_folder=\"static\")\n",
    "\t\n",
    "\tOBS: \"static_folder\": Indica o nome do diretório que irá guardar os arquivos estáticos, pode ser \"public\", por exemplo\n",
    "\t\n",
    "- Cria o arquivo 'static_page.html' dentro do diretório '/static'\n",
    "- Execute o servidor\n",
    "- Acesse \"http://127.0.0.1:5000/static/static_page.html\" para visualizar o formulário criado\n",
    "- Não precisa criar nenhuma rota para que funcione\n",
    "\n",
    "Vídeo 6: # Métodos HTTP\n",
    "\n",
    "- Um exemplo pode ser construído com uma página html básica e um form:\n",
    "\t<form action=\"http://127.0.0.1:5000/add\" method=\"post\">\n",
    "\t\t...\n",
    "\t</form>\n",
    "\t\n",
    "- Cria-se uma rota conforme foi escrito no 'action' e para os métodos desejados:\n",
    "\t@app.route(\"/add\", methods=[\"GET\", \"POST\"])\n",
    "\tdef add():\n",
    "\t\treturn \"Método Add\"\n",
    "\n",
    "- Execute a sua aplicação e observe que a rota \"/add\" vai funcionar tanto para o método GET como para o método POST\n",
    "\n",
    "- E como saber se a chamada é GET ou POST?\n",
    "\tImport o pacote request: from flask import request\n",
    "\t\n",
    "\t@app.route(\"/add\", methods=[\"GET\", \"POST\"])\n",
    "\tdef add():\n",
    "\t\tmetodo = \"\"\n",
    "\t\tif request.method == \"GET\":\n",
    "\t\t\tmetodo = \"GET\"\n",
    "\t\telif request.method == \"POST\":\n",
    "\t\t\tmetodo = \"POST\"\n",
    "\t\telse:\n",
    "\t\t\tmetodo = \"NO METHOD\"\n",
    "\t\treturn \"Método Add {}\".format(metodo)\n",
    "\t\t\n",
    "- E como obter o valor dos campos do formulário?\n",
    "\t- No \"pycharm\", faça um debug e identifique a variável que armazena essas informações.\n",
    "\t- É possível observar que \"request.form\" é um array que armazena os valores dos campos do formulário HTML.\n",
    "\t- E,por exemplo, o comando \"request.form['name']\" obtém o valor existente no campo nome do formulário.\n",
    "\t- E, se for necessário transformar os valores do formulário em \"json\", faça o seguinte:\n",
    "\t\t1. from json import dumps\n",
    "\t\t2. return dumps(request.form)\n",
    "\t\t\n",
    "- Como depurar uma aplicação com Pycharm?\n",
    "\t- Clique na linha desejada (deixe-a marcada com o ponto vermelho nela)\n",
    "\t- Clique no código + botão direito + debug ou \"Run Debug...\" ou \"Shift + F9\"\n",
    "\t- Execute as ações no código HTML\n",
    "\t- Volte para o Pycharm e observe a depuração:\n",
    "\t\t1. Passeo o mouse sobre a variável desejada (Ex: request) que irá aparecer um menu suspenso\n",
    "\t\t2. Clique no menu e observe todas as variáveis e valores disponíveis para a variável escolhida\n",
    "\n"
   ]
  }
 ],
 "metadata": {
  "kernelspec": {
   "display_name": "Python 3 (ipykernel)",
   "language": "python",
   "name": "python3"
  },
  "language_info": {
   "codemirror_mode": {
    "name": "ipython",
    "version": 3
   },
   "file_extension": ".py",
   "mimetype": "text/x-python",
   "name": "python",
   "nbconvert_exporter": "python",
   "pygments_lexer": "ipython3",
   "version": "3.8.10"
  }
 },
 "nbformat": 4,
 "nbformat_minor": 5
}
