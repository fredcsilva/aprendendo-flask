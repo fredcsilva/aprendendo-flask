{
 "cells": [
  {
   "cell_type": "markdown",
   "id": "d4bdbb49-f60f-4711-8bb1-8b27b116272a",
   "metadata": {},
   "source": [
    "# Rotas e Páginas"
   ]
  },
  {
   "cell_type": "markdown",
   "id": "8938cbca-4d21-420a-af21-cfea14f1ebf0",
   "metadata": {},
   "source": [
    "### 1. O que é uma rota?"
   ]
  },
  {
   "cell_type": "markdown",
   "id": "4a8fea95-bb90-4e5e-95d2-878bf02a0652",
   "metadata": {},
   "source": [
    "É uma função ou configuração/decorator que retorna dados ou redireciona a aplicação para uma outra página."
   ]
  },
  {
   "cell_type": "markdown",
   "id": "5bf13c96-9633-4450-bab9-0d38b0168aeb",
   "metadata": {},
   "source": [
    "### 2. Várias rotas em uma mesma função"
   ]
  },
  {
   "cell_type": "raw",
   "id": "708020f1-5f86-4ce5-83c5-17a2e852b764",
   "metadata": {},
   "source": [
    "# Duas rotas \"/rota\" e \"/rota1\" irão retornar o valor \"Olá Rota!\"\n",
    "@app.route(\"/rota1\")\n",
    "@app.route(\"/rota\")\n",
    "def minhaRota():\n",
    "    return \"Olá Rota!\""
   ]
  },
  {
   "cell_type": "markdown",
   "id": "a7d52eeb-aaab-498b-a489-86bf98a0a57e",
   "metadata": {},
   "source": [
    "### 2. Rotas com parâmetros"
   ]
  },
  {
   "cell_type": "markdown",
   "id": "c2b3b4f8-9325-4d2a-8dfd-541874451289",
   "metadata": {},
   "source": [
    "* Básica"
   ]
  },
  {
   "cell_type": "raw",
   "id": "0bef9443-5c69-46e3-b1f4-9b638344501f",
   "metadata": {},
   "source": [
    "@app.route(\"/rota/<nome>\")\n",
    "def minhaRota(nome):\n",
    "    if (nome == \"exemplo\"):\n",
    "        return \"Valor exemplo.\"\n",
    "    return \"Olá Rota!\""
   ]
  },
  {
   "cell_type": "markdown",
   "id": "bb7ffa8b-bb1d-4c56-a105-38156dd3cbe1",
   "metadata": {},
   "source": [
    "* Com parâmetro e valor padrão/default"
   ]
  },
  {
   "cell_type": "raw",
   "id": "e5efc2c5-4b0f-4f84-8e87-80c043a8e57b",
   "metadata": {},
   "source": [
    "# Exemplo 1\n",
    "@app.route(\"/rota/<nome>\")\n",
    "def minhaRota(nome=\"vazio\"):\n",
    "    if (nome == \"exemplo\"):\n",
    "        return \"Valor exemplo.\"\n",
    "    return \"Olá Rota!\"\n",
    "    \n",
    "# Exemplo 2\n",
    "@app.route(\"/rota/<nome>\", defaults={\"nome\"=None})\n",
    "def minhaRota(nome):\n",
    "    if (nome == \"exemplo\"):\n",
    "        return \"Valor exemplo.\"\n",
    "    return \"Olá Rota!\""
   ]
  },
  {
   "cell_type": "markdown",
   "id": "f48ddbf9-4448-4543-adc5-61977a27fbea",
   "metadata": {},
   "source": [
    "* Com parâmetros e tipos"
   ]
  },
  {
   "cell_type": "raw",
   "id": "4b69e09a-0bc2-4291-ba31-0084844de798",
   "metadata": {},
   "source": [
    "@app.route(\"/rota/<int:id>\")\n",
    "def minhaRota(id):\n",
    "    if id > 10:\n",
    "        return \"Maior\"\n",
    "    else:\n",
    "        return \"Menor\""
   ]
  },
  {
   "cell_type": "markdown",
   "id": "69652cef-f827-4594-90d9-97dd80419be3",
   "metadata": {},
   "source": [
    "* Com definição de métodos"
   ]
  },
  {
   "cell_type": "raw",
   "id": "675c248c-deb1-434a-8a3b-7462238e1d5b",
   "metadata": {},
   "source": [
    "# Indica os métodos HTTP que serão aceitos no método\n",
    "@app.route(\"/rota/\", methods=[GET, POST])\n",
    "def minhaRota():\n",
    "    return \"Method aceito!\""
   ]
  }
 ],
 "metadata": {
  "kernelspec": {
   "display_name": "Python 3 (ipykernel)",
   "language": "python",
   "name": "python3"
  },
  "language_info": {
   "codemirror_mode": {
    "name": "ipython",
    "version": 3
   },
   "file_extension": ".py",
   "mimetype": "text/x-python",
   "name": "python",
   "nbconvert_exporter": "python",
   "pygments_lexer": "ipython3",
   "version": "3.8.10"
  }
 },
 "nbformat": 4,
 "nbformat_minor": 5
}
