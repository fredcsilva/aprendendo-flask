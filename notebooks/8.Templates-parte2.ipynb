{
 "cells": [
  {
   "cell_type": "markdown",
   "id": "adb7b3c8-a90b-4147-98f8-07b10121c942",
   "metadata": {},
   "source": [
    "# Templates - Parte 2"
   ]
  },
  {
   "cell_type": "markdown",
   "id": "da916768-e79a-4679-9681-3544174b0555",
   "metadata": {},
   "source": [
    "| [Anterior](7.Templates-parte1.ipynb)| [Próximo](9.Configuracoes-Possiveis.ipynb)     | \n",
    "| :------------- | :----------:|"
   ]
  },
  {
   "cell_type": "markdown",
   "id": "59623b40-b188-47c0-b760-a6463879eabf",
   "metadata": {},
   "source": [
    "### 1. Crie um template `Base`"
   ]
  },
  {
   "cell_type": "markdown",
   "id": "3385340e-65f9-49d1-9c6e-143559d02594",
   "metadata": {},
   "source": [
    "* **Template `base.html`**"
   ]
  },
  {
   "cell_type": "markdown",
   "id": "941f3a92-eeaf-4d45-9777-998cf4a7db11",
   "metadata": {},
   "source": [
    "```\n",
    "<!DOCTYPE html>\n",
    "<html lang=\"en\">\n",
    "  <head>\n",
    "    <meta charset=\"utf-8\">\n",
    "    <meta http-equiv=\"X-UA-Compatible\" content=\"IE=edge\">\n",
    "    <meta name=\"viewport\" content=\"width=device-width, initial-scale=1\">\n",
    "\n",
    "    <title>Um título aqui</title>\n",
    "\n",
    "    <!-- Bootstrap core CSS -->\n",
    "    <link href=\"{{ url_for('static', filename='css/bootstrap.min.css') }}\" rel=\"stylesheet\">\n",
    "  </head>\n",
    "\n",
    "  <body>  \n",
    "\n",
    "    ...\n",
    "\n",
    "    <script src=\"{{ url_for('static', filename='js/bootstrap.min.js') }}\" />\n",
    "    <script src=\"{{ url_for('static', filename='js/jquery-3.3.1.slim.min.js') }}\" />\n",
    "  </body>\n",
    "</html>\n",
    "```"
   ]
  },
  {
   "cell_type": "markdown",
   "id": "73a59fdd-5174-4f1e-8c6c-9ce735b52161",
   "metadata": {},
   "source": [
    "* **Alterando o controlador para apontar para `base.html`**"
   ]
  },
  {
   "cell_type": "markdown",
   "id": "49d13044-ef0f-433b-bd08-0771a919f8ab",
   "metadata": {},
   "source": [
    "```\n",
    "@app.route(\"/\")\n",
    "def index():\n",
    "    return render_template(\"base.html\")\n",
    "```"
   ]
  },
  {
   "cell_type": "markdown",
   "id": "9c90f58f-b491-4f05-a952-b4401c7d8618",
   "metadata": {},
   "source": [
    "### 2. Herança de Templates"
   ]
  },
  {
   "cell_type": "markdown",
   "id": "fe69f9ad-17b1-43a2-a1e5-961c757f27fa",
   "metadata": {},
   "source": [
    "* **Sintaxe de herança (no início da sua página html)**"
   ]
  },
  {
   "cell_type": "markdown",
   "id": "0c1ff561-e4ab-4a23-a9e1-bed10b0c6fed",
   "metadata": {},
   "source": [
    "> ```{% extends 'base/base.html' %}```"
   ]
  },
  {
   "cell_type": "markdown",
   "id": "ebae1e7f-b033-4a36-a941-a0d3b5f258e4",
   "metadata": {},
   "source": [
    "* Blocos de Conteúdo da página `base.html` dentro do diretório ```base```"
   ]
  },
  {
   "cell_type": "markdown",
   "id": "f7cea7b5-33a0-44b0-9798-28de5a51bd6d",
   "metadata": {},
   "source": [
    "Os blocos de conteúdo permitem que as páginas que herdarem a página `base.html` consigam substituir o conteúdo desejado no bloco (na área) desejado."
   ]
  },
  {
   "cell_type": "markdown",
   "id": "522c74e3-e09a-4f9f-812c-4e739aa883e0",
   "metadata": {},
   "source": [
    "**Exemplo genérico**\n",
    "> {% block content %}<br/>\n",
    "{% endblock %}"
   ]
  },
  {
   "cell_type": "markdown",
   "id": "96bee152-1a46-4d45-abb7-37f36273f485",
   "metadata": {},
   "source": [
    "**OBS:** Se o nome do bloco for digitado incorretamente nenhum erro será exibido, apenas o conteúdo não será mostrado na página."
   ]
  },
  {
   "cell_type": "markdown",
   "id": "bca15ee3-e521-41f5-bc4d-06720620842c",
   "metadata": {},
   "source": [
    "* **Exemplo no título da página html**"
   ]
  },
  {
   "cell_type": "markdown",
   "id": "af69fadf-5c3b-4173-9508-ca440822ba88",
   "metadata": {},
   "source": [
    "\n",
    "**Página Base (`base.html`)**<br/>\n",
    "< title>{% block title %} Base Page {% endblock %}< /title>\n",
    "\n",
    "**Página Index (que herda a página base)** - Substitui o conteúdo \"Base Page\" por \"Index Page\" <br/>\n",
    "{% block title %} Index Page {% endblock %}\n",
    "\n",
    "**Página Index (que herda a página base)** - Complementa o conteúdo \"Base Page\" com \"Index Page\" <br/>\n",
    "{% block title %} super() - Index Page {% endblock %} <br/>\n",
    "**Resultando em:** Base Page - Index Page\n"
   ]
  }
 ],
 "metadata": {
  "kernelspec": {
   "display_name": "Python 3 (ipykernel)",
   "language": "python",
   "name": "python3"
  },
  "language_info": {
   "codemirror_mode": {
    "name": "ipython",
    "version": 3
   },
   "file_extension": ".py",
   "mimetype": "text/x-python",
   "name": "python",
   "nbconvert_exporter": "python",
   "pygments_lexer": "ipython3",
   "version": "3.8.10"
  }
 },
 "nbformat": 4,
 "nbformat_minor": 5
}
