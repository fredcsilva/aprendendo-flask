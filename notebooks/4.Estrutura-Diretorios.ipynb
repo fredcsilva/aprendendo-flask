{
 "cells": [
  {
   "cell_type": "markdown",
   "id": "eb866ae7-d2ea-4787-a364-e2ce89c296ae",
   "metadata": {},
   "source": [
    "# Estrutura de Diretórios do Flask "
   ]
  },
  {
   "cell_type": "markdown",
   "id": "447bec45-eb74-4910-86b0-5ff1b81db5e0",
   "metadata": {},
   "source": [
    "| [Anterior](3.Basico-de-Rotas.ipynb)| [Próximo](5.Bancos-de-Dados-Models.ipynb)     | \n",
    "| :------------- | :----------:|"
   ]
  },
  {
   "cell_type": "markdown",
   "id": "af88d60e-b237-4d64-9fa4-d1751c27ce75",
   "metadata": {},
   "source": [
    "### 1. Estrutura básica inicial"
   ]
  },
  {
   "cell_type": "markdown",
   "id": "81a79ba3-576e-47ef-8cfc-4e7604f26013",
   "metadata": {},
   "source": [
    "> ```\n",
    "/<nome-do-projeto>\n",
    "    /<app>\n",
    "        /<controllers>\n",
    "            __init__.py\n",
    "        /<models>\n",
    "            __init__.py\n",
    "        /<templates>\n",
    "        /<static>\n",
    "        __init__.py\n",
    "    run.py\n",
    "    config.py\n",
    "```"
   ]
  },
  {
   "cell_type": "markdown",
   "id": "fb42efb8-c5b8-48e7-a641-0d66506aa7b8",
   "metadata": {},
   "source": [
    "- Diretórios Padrões do Flask (recomenda-se criar exatamente com a nomeclatura abaixo)"
   ]
  },
  {
   "cell_type": "markdown",
   "id": "c798fad6-cf6f-4e3e-95c3-7a1c92076d13",
   "metadata": {},
   "source": [
    ">  **/templates** = diretório criado para guardar os arquivos HTML (Representa a View)\n",
    "<br/>\n",
    ">  **/static** = diretório criado para arquivos estáticos (imagens, javascript, css, etc) (Representa a View)"
   ]
  },
  {
   "cell_type": "markdown",
   "id": "a6318083-895e-4e18-841f-c3a4e3deecd8",
   "metadata": {},
   "source": [
    "* Arquivo **__ init __.py**"
   ]
  },
  {
   "cell_type": "markdown",
   "id": "bc642c58-0a51-4f60-9b1b-0c7d90fc2cbc",
   "metadata": {},
   "source": [
    "> Arquivo utilizado em python para trabalhar com módulos, ou seja, ele indica que um determinado diretório é um módulo.\n",
    "<br/>\n",
    "> Também será o arquivo com as configurações iniciais do Flask."
   ]
  },
  {
   "cell_type": "markdown",
   "id": "2b145b97-7b5a-4b99-9f9d-4b0626ca824e",
   "metadata": {},
   "source": [
    "* Código Básico Inicial\n",
    "\n",
    "> ```\n",
    "from flask import Flask \n",
    "\n",
    "> app = Flask(__name__)\n",
    "<br/>\n",
    "\n",
    "> from app.controllers import index_controller\n"
   ]
  },
  {
   "cell_type": "markdown",
   "id": "cec6a1a8-8348-4a2a-898e-2be250c6ed13",
   "metadata": {},
   "source": [
    "* Criando um Controlador Inicial (index_controller.py) dentro do diretório \"/controllers\""
   ]
  },
  {
   "cell_type": "markdown",
   "id": "b3dab65b-ce9b-4eb0-965d-5681bed7f6aa",
   "metadata": {},
   "source": [
    "> from app import app\n",
    "\n",
    "> @app.route(\"/\")\n",
    "<br/>\n",
    "def index():\n",
    "<br/>\n",
    "...return \"Hello World!\""
   ]
  },
  {
   "cell_type": "markdown",
   "id": "7c5da1b4-bd04-4560-addf-ec91bd85d1a6",
   "metadata": {},
   "source": [
    "* Criando um arquivo exclusivo para a execução "
   ]
  },
  {
   "cell_type": "markdown",
   "id": "a9a6b38d-e0a1-4b13-804a-c14c5b288ef1",
   "metadata": {},
   "source": [
    "> from app import app\n",
    "<br/>\n",
    "> if __name__ == \"__ main __\":\n",
    "<br/>\n",
    "...app.run()"
   ]
  },
  {
   "cell_type": "markdown",
   "id": "b267f02b-fae7-44be-86bc-28bdfc8be7ba",
   "metadata": {},
   "source": [
    "### 2. Estrutura de diretórios inicial \"Modelo\""
   ]
  },
  {
   "cell_type": "markdown",
   "id": "f859229d-27eb-4528-a475-f2dd5a4b6ab8",
   "metadata": {},
   "source": [
    "- Para acessar os diretórios e iniciar um projeto, basta acessar este [Link](https://github.com/fredcsilva/aprendendo-flask/tree/main/notebooks/files/estrutura-basica-diretorios)"
   ]
  }
 ],
 "metadata": {
  "kernelspec": {
   "display_name": "Python 3 (ipykernel)",
   "language": "python",
   "name": "python3"
  },
  "language_info": {
   "codemirror_mode": {
    "name": "ipython",
    "version": 3
   },
   "file_extension": ".py",
   "mimetype": "text/x-python",
   "name": "python",
   "nbconvert_exporter": "python",
   "pygments_lexer": "ipython3",
   "version": "3.8.10"
  }
 },
 "nbformat": 4,
 "nbformat_minor": 5
}
