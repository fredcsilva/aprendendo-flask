{
 "cells": [
  {
   "cell_type": "markdown",
   "id": "b8e46d26-f00d-4f63-acdb-714871e5204e",
   "metadata": {},
   "source": [
    "# Operações REST"
   ]
  },
  {
   "cell_type": "markdown",
   "id": "a32bcad0-c97f-4717-abe9-806c4cd9cf3d",
   "metadata": {},
   "source": [
    "| [Anterior](15.Upload-de-Arquivos.ipynb)| [Próximo](#) | \n",
    "| :------------- | :----------:|"
   ]
  },
  {
   "cell_type": "markdown",
   "id": "957affef-172b-436b-997b-ecadf5d3c4d0",
   "metadata": {},
   "source": [
    "### 1. A primeira etapa é a importação das bibliotecas"
   ]
  },
  {
   "cell_type": "markdown",
   "id": "f26fbfc3-afad-45a4-9ac0-efc8ee2a5768",
   "metadata": {},
   "source": [
    "```\n",
    "from flask import Respose, request, Blueprint\n",
    "import json\n",
    "from flask_sqlalchemy import SQLAlchemy\n",
    "```"
   ]
  },
  {
   "cell_type": "markdown",
   "id": "c9c39957-ea2f-4ba0-a6c9-b865b07b0b39",
   "metadata": {},
   "source": [
    "### 2. Criando uma Classe com a função `to_dict` "
   ]
  },
  {
   "cell_type": "markdown",
   "id": "5f769481-7601-4884-a324-b129ccfcbb60",
   "metadata": {},
   "source": [
    "* **Model**\n",
    "\n",
    "```\n",
    "class Estudante(db.Model):\n",
    "        ...\n",
    "        ...\n",
    "    def to_dict(self, columns=[]):\n",
    "        if not columns:\n",
    "            return {\"id\": self.id, \"nome\": self.nome, \"idade\": self.idade}\n",
    "        else:\n",
    "            return {col: getattr(self, col) for col in columns}\n",
    "```           \n",
    "\n",
    "* **Controller**\n",
    "\n",
    "```\n",
    "import json\n",
    "\n",
    "@app.route(\"/\")\n",
    "def index():\n",
    "    estudantes = Estudante.query.all()\n",
    "    estundate_dict = {e.to_dict() for e in estudantes_dict}\n",
    "    return Response(response=json.dumps(estundate_dict), status=200, content_type=\"applicaton/json\")\n",
    "```"
   ]
  },
  {
   "cell_type": "markdown",
   "id": "3c99bde0-bc8c-430c-986b-9982276b511e",
   "metadata": {},
   "source": [
    "### 3. Operações"
   ]
  },
  {
   "cell_type": "markdown",
   "id": "0793671a-2c62-4998-85aa-1c3a0a894f24",
   "metadata": {},
   "source": [
    "* Incluindo um novo Estudante\n",
    "\n",
    "```\n",
    "@app.route(\"/add\", methods=['POST'])\n",
    "def addUser():\n",
    "    if request.method == 'POST':\n",
    "        estudante = User(request.form['nome'], request.form['idade'])\n",
    "        db.session.addA(estudante)\n",
    "        db.session.commit()        \n",
    "     return app.response_class( response=json.dumps( {\"status: \"success\", \"data\": estudante.to_dict()} ), status=200, content_type=\"applicaton/json\")\n",
    "```"
   ]
  },
  {
   "cell_type": "markdown",
   "id": "3b88ecc2-684d-4be0-8f2a-2724eef1bf8b",
   "metadata": {},
   "source": [
    "* Editando um Estudante\n",
    "\n",
    "```\n",
    "@app.route(\"/edit/<int:idEstudante>\", methods=['PUT', 'POST'])\n",
    "def editEstudante(idEstudante):\n",
    "    estudante = User.query.get(idEstudante)\n",
    "    if estudante & request.method == 'PUT':        \n",
    "        estudante.nome = request.form['nome']\n",
    "        estudante.idade = request.form['idade']    \n",
    "        db.session.commit()\n",
    "         \n",
    "     return Response(response=json.dumps(estudante.to_dict()), status=200, content_type=\"applicaton/json\")\n",
    "```"
   ]
  },
  {
   "cell_type": "markdown",
   "id": "cd5c07f4-9db8-4cce-8a61-cca66d35db23",
   "metadata": {},
   "source": [
    "* Apagando um Estudante\n",
    "\n",
    "```\n",
    "@app.route(\"/delete/<int:idEstudante>\", methods=['GET', 'DELETE'])\n",
    "def deleteEstudante(idEstudante):    \n",
    "    estudante = Estudante.query.get(idEstudante)\n",
    "    db.session.delete(estudante)\n",
    "    db.session.commit()         \n",
    "    return Response(response=json.dumps(estudante.to_dict()), status=200, content_type=\"applicaton/json\")\n",
    "```"
   ]
  },
  {
   "cell_type": "markdown",
   "id": "9e1bcd0d-676d-436b-a2e4-35dfc8393aa7",
   "metadata": {},
   "source": [
    "* Buscando Estudantes\n",
    "\n",
    "```\n",
    "1. rows = db.sessiom.execute(\"SELECT * FROM Estudante\").fetchall()\n",
    "   result = [dict(r) for r in rows]\n",
    "   \n",
    "2. result = Estudante.query.all()\n",
    "```"
   ]
  },
  {
   "cell_type": "markdown",
   "id": "909803b0-30df-4122-8674-377b7ceba885",
   "metadata": {},
   "source": [
    "* Obtendo somente um Estudante\n",
    "\n",
    "```\n",
    "@app.route(\"/view/<int:id>\", methods=['GET'])\n",
    "def view(id):\n",
    "    row = db.sessiom.execute(\"SELECT * FROM Estudante WHERE id = %s\" %id).fetchone()\n",
    "    \n",
    "    return Response(response=json.dumps( dict(row) ), status=200, content_type=\"applicaton/json\")\n",
    "```"
   ]
  },
  {
   "cell_type": "markdown",
   "id": "a0cc9e5f-01bd-42dd-a43e-2dc80e8134dd",
   "metadata": {},
   "source": [
    "### 4. Utilizando o Blueprint"
   ]
  },
  {
   "cell_type": "markdown",
   "id": "9327d91a-d0ec-4b36-94e0-f7fcd352b463",
   "metadata": {},
   "source": [
    "Essa biblioteca é útil para colocar um prefixo na URL da página. Ex: http://minhapagina/estudantes/<operacao> <br/>\n",
    "A operacao pode ser: get, add, delete, edit"
   ]
  },
  {
   "cell_type": "markdown",
   "id": "617e18ef-075e-4ea0-9d4e-09d3a069293c",
   "metadata": {},
   "source": [
    "* Como ficaria a classe `app.py` ou `__ init __.py`:\n",
    "\n",
    "> `app.register_blueprint(estudante_controller, url_prefix=\"/estudantes/\")`\n",
    "> `app.register_blueprint(disciplina_controller, url_prefix=\"/disciplinas/\")`\n",
    "\n",
    "**OBS:** Tanto estudante_controller como disciplina_controller precisam implementar as funções/operações conforme os exemplos acima.\n"
   ]
  }
 ],
 "metadata": {
  "kernelspec": {
   "display_name": "Python 3 (ipykernel)",
   "language": "python",
   "name": "python3"
  },
  "language_info": {
   "codemirror_mode": {
    "name": "ipython",
    "version": 3
   },
   "file_extension": ".py",
   "mimetype": "text/x-python",
   "name": "python",
   "nbconvert_exporter": "python",
   "pygments_lexer": "ipython3",
   "version": "3.8.10"
  }
 },
 "nbformat": 4,
 "nbformat_minor": 5
}
