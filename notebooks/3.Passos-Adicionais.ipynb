{
 "cells": [
  {
   "cell_type": "markdown",
   "id": "76a12300-af1a-4970-a530-588fcb214958",
   "metadata": {},
   "source": [
    "# Passos Adicionais"
   ]
  },
  {
   "cell_type": "markdown",
   "id": "e59a84dd-21a9-4760-9242-e22a7fd4133a",
   "metadata": {},
   "source": [
    "### 1. URLs/Rotas dinâmicas"
   ]
  },
  {
   "cell_type": "markdown",
   "id": "cc39c9d3-a809-4813-8b92-0e07d6df284d",
   "metadata": {},
   "source": [
    "=> Coloque o caracter \"/\" no fim, para evitar erros ao digitar \".../teste/hello/\"\n",
    "<br/>\n",
    "=> Acrescente a rota @app.route(\"/teste/\") para aceitar somente a chamada \".../hello\"\n",
    "<br/>\n",
    "=> Função com parâmetro nome com o valor padrão igual a 'vazio'\n",
    "> ```\n",
    "@app.route(\"/hello/\")\n",
    "@app.route(\"/hello/<nome>/\")\n",
    " def hello(nome=\"vazio\"):\n",
    "    return \"<p>Uma rota com nome {}</p>\".format(nome)\n",
    "```"
   ]
  },
  {
   "cell_type": "markdown",
   "id": "e4037113-25ac-4f82-a23c-da60a8243303",
   "metadata": {},
   "source": [
    "### 2. Redirecionamentos"
   ]
  },
  {
   "cell_type": "markdown",
   "id": "8dfbba5f-289b-4050-9b05-d42185369d4d",
   "metadata": {},
   "source": [
    "**Redirect e url_for:**"
   ]
  },
  {
   "cell_type": "markdown",
   "id": "4729cda0-d81c-4bce-8670-3373c3b34197",
   "metadata": {},
   "source": [
    "*Realize os devidos **imports** *:\n",
    "<br/>\n",
    "> `from flask import Flask, redirect, url_for`"
   ]
  },
  {
   "cell_type": "markdown",
   "id": "1517a8e2-f9c8-4b7b-bb7e-cca6654d931a",
   "metadata": {},
   "source": [
    "==> Criando redirecionamento de rotas \n",
    "> ```\n",
    "@app.route(\"/admin/\")\n",
    "def adminUser():\n",
    "    return \"<h3>Admin User!</h3>\" \n",
    "    \n",
    "> ```@app.route(\"/guest/\")\n",
    "@app.route(\"/guest/<name_user>\")\n",
    "def guest(name_user=\"No name\"):\n",
    "    return \"<p>Guest user %s</p>\" % name_user\n",
    "    \n",
    ">``` @app.route(\"/user/\")\n",
    "@app.route(\"/user/<login>\")\n",
    "def admin(login=\"\"):\n",
    "    if login == \"admin\":\n",
    "        return redirect(url_for('adminUser'))\n",
    "    else:\n",
    "        return redirect(url_for('guest', name_user=login))\n",
    "```"
   ]
  },
  {
   "cell_type": "markdown",
   "id": "55ae080f-7d5e-4b02-b9bc-e23746ab0f15",
   "metadata": {},
   "source": [
    "**Redirect para um web site:**"
   ]
  },
  {
   "cell_type": "markdown",
   "id": "330d8de0-7ecc-443b-a6de-8115f135c22c",
   "metadata": {},
   "source": [
    ">```\n",
    "@app.route(\"/site\")\n",
    "def siteGoogle():\n",
    "    return redirect(\"https://google.com\")\n",
    "```"
   ]
  }
 ],
 "metadata": {
  "kernelspec": {
   "display_name": "Python 3 (ipykernel)",
   "language": "python",
   "name": "python3"
  },
  "language_info": {
   "codemirror_mode": {
    "name": "ipython",
    "version": 3
   },
   "file_extension": ".py",
   "mimetype": "text/x-python",
   "name": "python",
   "nbconvert_exporter": "python",
   "pygments_lexer": "ipython3",
   "version": "3.8.10"
  }
 },
 "nbformat": 4,
 "nbformat_minor": 5
}
