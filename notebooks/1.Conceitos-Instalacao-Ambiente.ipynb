{
 "cells": [
  {
   "cell_type": "markdown",
   "id": "17fbca59-9173-401a-b6f3-4838f6c80a73",
   "metadata": {},
   "source": [
    "# Aprendendo Flask"
   ]
  },
  {
   "cell_type": "markdown",
   "id": "224109d1-d3ff-46ea-9322-4c878988c403",
   "metadata": {},
   "source": [
    "### 1. Conceitos Básicos"
   ]
  },
  {
   "cell_type": "markdown",
   "id": "4277ae81-e342-41d2-bb03-c2633716cc90",
   "metadata": {},
   "source": [
    "- É um microframework para aplicativos Web escrito em Python.\n",
    "- Flask é baseado no kit Werkzeug WSGI (Web Server Gateway Interface) e Jinja2 (View) próprio para criar templates em Python.\n",
    "- Uma ferramenta para construção de Apis\n",
    "- Flask é uma microestrutura que mantém a simplicidade do núcleo da aplicação, porém, é bastante extensível através de módulos que podem ser agregados no decorrer do desenvolvimento. "
   ]
  },
  {
   "cell_type": "markdown",
   "id": "bf0df6f1-5344-4f20-9562-0210437bb3c1",
   "metadata": {},
   "source": [
    "### 2. Instalação"
   ]
  },
  {
   "cell_type": "markdown",
   "id": "47b54a2a-0c79-41b1-8087-65c2e7832a9f",
   "metadata": {},
   "source": [
    "**Dica:** *Crie um ambiente virtual (virtualenv) para instalar o Flask.*\n",
    "> `$ pip install virtual_env`\n",
    "<br/>\n",
    "\n",
    "**Inicie o virtualenv (ex: com o nome venv_flask)**\n",
    "<br/>\n",
    "> `$ py -3 -m venv venv_flask`\n",
    "ou\n",
    "> `$ virtualenv -p python3 venv_flask`\n",
    "<br/>\n",
    "\n",
    "**Ative o virtualenv**\n",
    "<br/>\n",
    "> `$ venv_flask\\Scripts\\activate`\n",
    "<br/>\n",
    "\n",
    "**Instale as bibliotecas no ambiente virtual do projeto**\n",
    "> `$ (venv_flask) pip install Flask`\n",
    "\n",
    "**OBS:** O Flask suporta Python 3.6 e mais recente. E o suporte assíncrono no Flask requer Python 3.7+ para contextvars.ContextVar."
   ]
  },
  {
   "cell_type": "markdown",
   "id": "665ce81e-b040-4e2f-abe8-29dc430a5158",
   "metadata": {},
   "source": [
    "### 3. Gerando e Carregando as Bibliotecas Instaladas no Ambiente"
   ]
  },
  {
   "cell_type": "markdown",
   "id": "9f25ac10-9fab-4582-8ab6-ce5eeb4b3947",
   "metadata": {},
   "source": [
    "**Gerando um arquivo \"requirements.txt\" contendo todas as bibliotecas do meu projeto**"
   ]
  },
  {
   "cell_type": "markdown",
   "id": "9152ea60-ab73-4318-8c4b-669fbd49bdc4",
   "metadata": {},
   "source": [
    "> `$ pip freeze > requirements.txt`"
   ]
  },
  {
   "cell_type": "markdown",
   "id": "792c936d-bfcf-4c1e-a439-a9c19bd380f9",
   "metadata": {},
   "source": [
    "**Importanto o arquivo \"requirements.txt\" contendo todas as bibliotecas do meu projeto**"
   ]
  },
  {
   "cell_type": "markdown",
   "id": "25922dc4-531f-4097-b67c-973bbc00c648",
   "metadata": {},
   "source": [
    "> `$ pip install -r requirements.txt ou $ pip3 install -r requirements.txt`"
   ]
  },
  {
   "cell_type": "markdown",
   "id": "6456a999-e8c1-48dc-b4e0-4a8a6449e194",
   "metadata": {},
   "source": [
    "### 4. Página do Flask"
   ]
  },
  {
   "cell_type": "markdown",
   "id": "157741c3-db4f-486f-ad9e-6d3d1b895dfa",
   "metadata": {},
   "source": [
    "https://flask.palletsprojects.com/en/2.0.x/"
   ]
  }
 ],
 "metadata": {
  "kernelspec": {
   "display_name": "Python 3 (ipykernel)",
   "language": "python",
   "name": "python3"
  },
  "language_info": {
   "codemirror_mode": {
    "name": "ipython",
    "version": 3
   },
   "file_extension": ".py",
   "mimetype": "text/x-python",
   "name": "python",
   "nbconvert_exporter": "python",
   "pygments_lexer": "ipython3",
   "version": "3.8.10"
  }
 },
 "nbformat": 4,
 "nbformat_minor": 5
}
