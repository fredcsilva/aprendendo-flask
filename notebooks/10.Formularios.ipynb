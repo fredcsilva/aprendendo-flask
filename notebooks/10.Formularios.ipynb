{
 "cells": [
  {
   "cell_type": "markdown",
   "id": "0dafc356-91e0-48cd-9f92-35a78ec93b01",
   "metadata": {},
   "source": [
    "# Formulários"
   ]
  },
  {
   "cell_type": "markdown",
   "id": "bf1657eb-238f-43f1-84f2-64172a44229d",
   "metadata": {},
   "source": [
    "| [Anterior](9.Configuracoes-Possiveis.ipynb)| [Próximo](11.Operacoes-CRUD-SQLAlchemy.ipynb)     | \n",
    "| :------------- | :----------:|"
   ]
  },
  {
   "cell_type": "markdown",
   "id": "ff40a926-799c-479b-a577-91c968a9e235",
   "metadata": {},
   "source": [
    "### 1. Trabalhando com Formulários em Flask"
   ]
  },
  {
   "cell_type": "markdown",
   "id": "eece2172-eff4-42f8-8a81-f8c47a16fd35",
   "metadata": {},
   "source": [
    "Há duas maneiras de trabalhar com formulários em Flask:\n",
    "1. Tags HTMLs padrão\n",
    "2. Objetos de Formulários do Flask e objetos em Python"
   ]
  },
  {
   "cell_type": "markdown",
   "id": "76d57b3a-9e7e-4cfc-8b4e-6eef039534d7",
   "metadata": {},
   "source": [
    "- **Utlizando a biblioteca Flask-WTF** <br/>\n",
    "Link: https://flask-wtf.readthedocs.io/en/0.15.x/ (WTForms)"
   ]
  },
  {
   "cell_type": "markdown",
   "id": "9b810dd2-dd0d-4c12-83f6-8aa3c78205d2",
   "metadata": {},
   "source": [
    "* **Instalando o WTForms**"
   ]
  },
  {
   "cell_type": "markdown",
   "id": "9829b9ed-457e-47c3-b3d0-9c3e8ee53e30",
   "metadata": {},
   "source": [
    "> 1. Ative o seu ambiente virtual"
   ]
  },
  {
   "cell_type": "markdown",
   "id": "05e5b7b2-8e08-4019-aad8-b69ab1756c68",
   "metadata": {},
   "source": [
    "> Execute o comando: <br/>`pip install -U Flask-WTF`"
   ]
  },
  {
   "cell_type": "markdown",
   "id": "eef222e1-56f0-423a-ad86-38def52b45d9",
   "metadata": {},
   "source": [
    "* **Utilizando o WTForms (dentro do diretório Model)**"
   ]
  },
  {
   "cell_type": "markdown",
   "id": "caa17827-834a-4bc7-a97d-c4506105c91c",
   "metadata": {},
   "source": [
    "> Crie o arquivo `forms.py` dentro do diretório `/models` e acrescente o código abaixo em `forms.py`:"
   ]
  },
  {
   "cell_type": "markdown",
   "id": "ad531702-82b2-46af-bee8-e13a86c74167",
   "metadata": {},
   "source": [
    "- Exemplo 1: \n",
    "\n",
    "```\n",
    "from flask_wtf import FlaskForm\n",
    "from wtforms import StringField, PasswordField, BooleanField\n",
    "from wtforms.validators import DataRequired\n",
    "\n",
    "class LoginForm(FlaskForm):\n",
    "    username = StringField('username', validators=[DataRequired()])\n",
    "    password = PasswordField('password', validators=[DataRequired()])\n",
    "    remember_me = BooleanField('remember_me')\n",
    "```"
   ]
  },
  {
   "cell_type": "markdown",
   "id": "ea3d8aca-d3e4-4787-9369-217814d932d6",
   "metadata": {},
   "source": [
    "- Exemplo 2: \n",
    "\n",
    "```\n",
    "from wtforms import Form\n",
    "from wtforms import StringField, TextField\n",
    "from wtforms.fields.html5 import EmailField\n",
    "\n",
    "class CommentForm(Form):\n",
    "    username = StringField('Usuario', \n",
    "                    [\n",
    "                        validators.Required(message=\"O username é obrigatório.\"),\n",
    "                        validators.length(min=4, max=20, message=\"Informe um username válido\")                       \n",
    "                    ]\n",
    "                )\n",
    "    email = EmailField('E-mail',  \n",
    "                    [\n",
    "                        validators.Required(message=\"O Email é obrigatório.\"),\n",
    "                        validators.Email(message=\"Informe um email válido\")\n",
    "                    ]\n",
    "                )\n",
    "    comment = TextField('Comentario')    \n",
    "    \n",
    "========== Na classe Controller =========\n",
    "from flask import render_template, request\n",
    "import forms\n",
    "\n",
    "@app.route(\"/\")\n",
    "def index(title=None):\n",
    "    commentForm = forms.CommentForm(request.form)\n",
    "    if request.method == 'POST' & commentForm.validate():\n",
    "        ...\n",
    "    else:\n",
    "        ...\n",
    "    return render_template('index.html', title=title, form=commentForm)\n",
    "```\n",
    "```\n",
    "========== Criando uma `Macro` em `_macro.html` ========= \n",
    "{% macro render_field(field) %} <br/>\n",
    "\n",
    "    <td> {{ field.label }} \n",
    "    <dd> {{ field(**kwargs)|safe }} \n",
    "\n",
    "    {% if field.errors %} \n",
    "        {% for error in field.errors %} \n",
    "            <ul> <li> {{ error }} </li> </ul>\n",
    "        {% endfor %} \n",
    "    {% endif %} \n",
    "\n",
    "{% endmacro %}\n",
    "\n",
    "========== Importando e renderizando a Macro na página HTML `index.html` ========= \n",
    "{% block content %}<br/>\n",
    "    {% from \"_macro.html\" import render_field %}<br/>\n",
    "    \n",
    "    # Exemplo com Bootstrap \n",
    "    <form name=\"sentMessage\" action=\"/sent_message\" method=\"POST\">\n",
    "        <div class=\"...\">\n",
    "            <div class=\"...\">\n",
    "                {{ render_field(form.username, class='form-control') }}\n",
    "            </div>\n",
    "        </div>    \n",
    "    </form>\n",
    "    \n",
    "{% endblock %}\n",
    "```"
   ]
  },
  {
   "cell_type": "markdown",
   "id": "5d32794f-4477-4021-9c3c-cbc5d0c13c90",
   "metadata": {},
   "source": [
    "### 2. Configurando o Form no Controlador (ex: index_controller)"
   ]
  },
  {
   "cell_type": "markdown",
   "id": "15039fd4-0c90-4c0e-b2aa-36727c07a4e2",
   "metadata": {},
   "source": [
    "> from app.models.forms import LoginForm"
   ]
  },
  {
   "cell_type": "markdown",
   "id": "fbe4a2ff-9de3-49a0-bb94-141e39d096aa",
   "metadata": {},
   "source": [
    "```\n",
    "@app.route(\"/login\", methods=['POST'])\n",
    "def login():\n",
    "    form_login = LoginForm()\n",
    "    return render_template(\"login.html\", form=form_login)    \n",
    "```"
   ]
  },
  {
   "cell_type": "markdown",
   "id": "acf4228c-6a36-436c-af24-0b52edf2d1e0",
   "metadata": {},
   "source": [
    "### 3. Configurando uma SECRET_KEY"
   ]
  },
  {
   "cell_type": "markdown",
   "id": "a26c4ff0-c4cc-48e2-b05a-ffb5a7d3e820",
   "metadata": {},
   "source": [
    "Para o correto funcionamento com formulários é necessário criar uma SECRET_KEY."
   ]
  },
  {
   "cell_type": "markdown",
   "id": "d836a8d2-4e78-41bc-8f19-5cda7ebd0798",
   "metadata": {},
   "source": [
    "Acesse o arquivo `config.py` e digite: <br/>\n",
    "SECRET_KEY = 'UMA-CHAVE-BEM-SEGURA-AQUI'"
   ]
  },
  {
   "cell_type": "markdown",
   "id": "7c3321e4-4ba1-4857-bf76-a837fbf8319f",
   "metadata": {},
   "source": [
    "- **Como gerar uma SECRET_KEY?**\n",
    "\n",
    "```\n",
    "Ainda não sei...\n",
    "```"
   ]
  },
  {
   "cell_type": "markdown",
   "id": "7b9ed0fe-3e02-4f08-9b81-5209108839ed",
   "metadata": {},
   "source": [
    "### 4. Recebendo o formulário na página HTML"
   ]
  },
  {
   "cell_type": "markdown",
   "id": "5bb8f7e0-4675-415d-ae83-173496407686",
   "metadata": {},
   "source": [
    "* Com base nos exemplos de formulários em [Bootstrap Forms](https://getbootstrap.com/docs/4.0/components/forms/)\n",
    "* Lembre-se também do Cross Site Request Forgery (CSRF) na página HTML"
   ]
  },
  {
   "cell_type": "markdown",
   "id": "1a2b2cb0-d047-496a-9716-3a6d06a0f095",
   "metadata": {},
   "source": [
    "```\n",
    "<div class=\"col-md-4 col-md-offset-4\">\n",
    "    <form action=\"\" method=\"POST\">\n",
    "        {{ form.csrf_token }}\n",
    "      <div class=\"form-group\">\n",
    "        <label for=\"username\">Username</label>\n",
    "        {{ form.username(class='form-control', placeholder='Seu username') }}\n",
    "      </div>\n",
    "\n",
    "      <div class=\"form-group\">\n",
    "        <label for=\"password\">Password</label>\n",
    "        {{ form.password(class='form-control') }}\n",
    "      </div>\n",
    "\n",
    "      <div class=\"checkbox\">\n",
    "        <label for=\"remember\">Remember-me</label>\n",
    "      </div>\n",
    "      \n",
    "      <button type=\"submit\" class=\"btn btn-primary\">Submit</button>\n",
    "    </form>\n",
    "</div>\n",
    "```\n",
    "\n",
    "**OBS**: Lembre-se de permitir que a função con controlador aceite o método POST com o parâmetro \"methods=['GET', 'POST']\" e SEMPRE lembre-se de acrescentar o \"Token CSRF\" no formulário."
   ]
  },
  {
   "cell_type": "markdown",
   "id": "b06617bf-35cd-477b-ba0e-57bbe5175cd5",
   "metadata": {},
   "source": [
    "### 5. Validando o formulário na classe Controladora"
   ]
  },
  {
   "cell_type": "markdown",
   "id": "af9d88d0-c154-4f40-aba2-563011bc5c62",
   "metadata": {},
   "source": [
    "- **Validação Básica:**\n",
    "```\n",
    "@app.route(\"/login\", methods=['GET, POST'])\n",
    "def login():\n",
    "    form_login = LoginForm()\n",
    "    if form_login.validate_on_submit():\n",
    "            pass\n",
    "    else: \n",
    "            pass\n",
    "    return render_template(\"login.html\", form=form_login)    \n",
    "```"
   ]
  },
  {
   "cell_type": "markdown",
   "id": "87865b7f-9dc5-4940-a7e5-d39099e2919c",
   "metadata": {},
   "source": [
    "- **Validação Própria (Campo Hidden):**\n",
    "\n",
    "```\n",
    "from wtforms import Form\n",
    "...\n",
    "from wtforms import HiddenField\n",
    "from wtforms import validators\n",
    "\n",
    "def my_length_validation(form, field):\n",
    "    if len(field.data) > 0:\n",
    "        raise validators.ValidationErrors(\"Este campo precisa estar vazio.\")\n",
    "        \n",
    "class CommentForm(Form):\n",
    "    ...\n",
    "    otherField = HiddenField('', [my_length_validation])   \n",
    "\n",
    "========== Acrescentando o campo na página HTML `index.html` ========= \n",
    "{% block content %}<br/>\n",
    "    {% from \"_macro.html\" import render_field %}<br/>\n",
    "    \n",
    "    # Exemplo com Bootstrap \n",
    "    <form name=\"sentMessage\" action=\"/sent_message\" method=\"POST\">\n",
    "        <div class=\"...\">\n",
    "            <div class=\"...\">\n",
    "                ...\n",
    "            </div>\n",
    "        </div>    \n",
    "        \n",
    "        {{ form.otherField }}\n",
    "        \n",
    "    </form>\n",
    "    \n",
    "{% endblock %}\n",
    "```"
   ]
  },
  {
   "cell_type": "markdown",
   "id": "20b39983-4f00-4914-bd4e-000a80f5d00d",
   "metadata": {},
   "source": [
    "### 6. Tratando Erros no Formulário HTML"
   ]
  },
  {
   "cell_type": "markdown",
   "id": "5e547650-4278-4f5c-b730-125d63453f4d",
   "metadata": {},
   "source": [
    "O formulário recebe uma lista no objeto `form.errors`.<br />\n",
    "Para apresentar os erros, basta acessar os errors por cada campo: <br/>\n",
    "1. form.errors.username\n",
    "1. form.errors.password"
   ]
  },
  {
   "cell_type": "markdown",
   "id": "90b60cd2-10ef-4bef-8b7b-eceeaf90ab58",
   "metadata": {},
   "source": [
    "**Dica:** Para um alerta de erro bem apresentável, utilize o que o [Bootstrap Alerts](https://getbootstrap.com/docs/4.0/components/alerts/) oferece"
   ]
  },
  {
   "cell_type": "markdown",
   "id": "861b154b-65ef-4f43-b50b-d9843a4a1ea9",
   "metadata": {},
   "source": [
    "### 7. Protegendo-se de ataques do tipo CSRF no próprio código Flask"
   ]
  },
  {
   "cell_type": "markdown",
   "id": "3d265c8a-671a-4a54-89d7-54aa6bd1ba90",
   "metadata": {},
   "source": [
    "1. Importe as classes\n",
    "\n",
    "```\n",
    "...\n",
    "from flask_wtf import CsrfProtect\n",
    "...\n",
    "```"
   ]
  },
  {
   "cell_type": "markdown",
   "id": "04fa002f-10a9-4d90-b091-3dd052b6992a",
   "metadata": {},
   "source": [
    "2. Carregue a instância da Classe\n",
    "\n",
    "```\n",
    "...\n",
    "app = Flask(__ name __)\n",
    "\n",
    "# Secret Key deve ser um \"HASH' complexo e secreto, ninguém deve saber esse valor\n",
    "app.secret_key = 'my-secret-key'\n",
    "csrf = CsrfProtect(app)\n",
    "\n",
    "...\n",
    "```"
   ]
  },
  {
   "cell_type": "markdown",
   "id": "f4f3dcf6-ca08-45c2-9b76-8861457a158b",
   "metadata": {},
   "source": [
    "3. Carregue o campo HTML\n",
    "\n",
    "\n",
    "> <.input type=\"hidden\" name=\"csrf_token\" value=\"{{ csrf_token() }}\" />\n"
   ]
  },
  {
   "cell_type": "markdown",
   "id": "800b5493-b894-4aa5-80cd-62739a58999e",
   "metadata": {},
   "source": [
    "### 8. Criando validações a Usuários - Evitando erros e inserções duplicadas"
   ]
  },
  {
   "cell_type": "markdown",
   "id": "cd5fe4bf-809b-4fd1-a894-b392458b5db2",
   "metadata": {},
   "source": [
    "Existe um padrão de métodos/funções em Flask para verificar se algum valor de algum campo de uma tabela do banco de dados existe. <br/>\n",
    "Segue abaixo um exemplo para a tabela de usuários"
   ]
  },
  {
   "cell_type": "markdown",
   "id": "bbd858a4-a9f0-4707-a23d-12568e50cc48",
   "metadata": {},
   "source": [
    "```\n",
    "...\n",
    "from models import User]\n",
    "...\n",
    "\n",
    "# Essa é uma função padrão do Flask - estamos fazendo um \"override\"\n",
    "# Verificando se usuário (username) já existe\n",
    "def validade_username(form, field):\n",
    "    username = field.data\n",
    "    user = User.query.filter_by(username=username).first()\n",
    "    \n",
    "    if user not None:\n",
    "        raise validators.ValidationError('Usuário já existe')\n",
    "        \n",
    "# Essa é uma função padrão do Flask - estamos fazendo um \"override\"\n",
    "# Verificando se o e-mail do usuário já existe\n",
    "def validade_email(form, field):\n",
    "    email = field.data\n",
    "    user = User.query.filter_by(email=email).first()\n",
    "    \n",
    "    if user not None:\n",
    "        raise validators.ValidationError('Usuário com este e-mail já existe')\n",
    "    \n",
    "```"
   ]
  },
  {
   "cell_type": "code",
   "execution_count": null,
   "id": "f23d49cf-a157-4ec1-a178-9d35dc6ba455",
   "metadata": {},
   "outputs": [],
   "source": []
  }
 ],
 "metadata": {
  "kernelspec": {
   "display_name": "Python 3 (ipykernel)",
   "language": "python",
   "name": "python3"
  },
  "language_info": {
   "codemirror_mode": {
    "name": "ipython",
    "version": 3
   },
   "file_extension": ".py",
   "mimetype": "text/x-python",
   "name": "python",
   "nbconvert_exporter": "python",
   "pygments_lexer": "ipython3",
   "version": "3.8.10"
  }
 },
 "nbformat": 4,
 "nbformat_minor": 5
}
