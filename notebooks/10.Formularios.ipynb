{
 "cells": [
  {
   "cell_type": "markdown",
   "id": "0dafc356-91e0-48cd-9f92-35a78ec93b01",
   "metadata": {},
   "source": [
    "# Formulários"
   ]
  },
  {
   "cell_type": "markdown",
   "id": "ff40a926-799c-479b-a577-91c968a9e235",
   "metadata": {},
   "source": [
    "### 1. Utlizando a biblioteca Flask-WTF"
   ]
  },
  {
   "cell_type": "markdown",
   "id": "76d57b3a-9e7e-4cfc-8b4e-6eef039534d7",
   "metadata": {},
   "source": [
    "Link: https://flask-wtf.readthedocs.io/en/0.15.x/ (WTForms)"
   ]
  },
  {
   "cell_type": "markdown",
   "id": "9b810dd2-dd0d-4c12-83f6-8aa3c78205d2",
   "metadata": {},
   "source": [
    "* Instalando o WTForms"
   ]
  },
  {
   "cell_type": "markdown",
   "id": "9829b9ed-457e-47c3-b3d0-9c3e8ee53e30",
   "metadata": {},
   "source": [
    "> 1. Ative o seu ambiente virtual"
   ]
  },
  {
   "cell_type": "markdown",
   "id": "05e5b7b2-8e08-4019-aad8-b69ab1756c68",
   "metadata": {},
   "source": [
    "> Execute o comando: <br/>`pip install -U Flask-WTF`"
   ]
  },
  {
   "cell_type": "markdown",
   "id": "eef222e1-56f0-423a-ad86-38def52b45d9",
   "metadata": {},
   "source": [
    "* Utilizando o WTForms (dentro do diretório Model)"
   ]
  },
  {
   "cell_type": "markdown",
   "id": "caa17827-834a-4bc7-a97d-c4506105c91c",
   "metadata": {},
   "source": [
    "> Crie o arquivo `forms.py` dentro do diretório `/models` e acrescente o código abaixo em `forms.py`:"
   ]
  },
  {
   "cell_type": "raw",
   "id": "42097642-6265-44ad-b553-88b65e4ff029",
   "metadata": {},
   "source": [
    "from flask_wtf import FlaskForm\n",
    "from wtforms import StringField, PasswordField, BooleanField\n",
    "from wtforms.validators import DataRequired\n",
    "\n",
    "class LoginForm(FlaskForm):\n",
    "    username = StringField('username', validators=[DataRequired()])\n",
    "    password = PasswordField('password', validators=[DataRequired()])\n",
    "    remember_me = BooleanField('remember_me')"
   ]
  },
  {
   "cell_type": "markdown",
   "id": "5d32794f-4477-4021-9c3c-cbc5d0c13c90",
   "metadata": {},
   "source": [
    "### 2. Configurando o Form no Controlador (ex: index_controller)"
   ]
  },
  {
   "cell_type": "markdown",
   "id": "15039fd4-0c90-4c0e-b2aa-36727c07a4e2",
   "metadata": {},
   "source": [
    "> from app.models.forms import LoginForm"
   ]
  },
  {
   "cell_type": "markdown",
   "id": "fbe4a2ff-9de3-49a0-bb94-141e39d096aa",
   "metadata": {},
   "source": [
    "```\n",
    "@app.route(\"/login\", methods=['POST'])\n",
    "def login():\n",
    "    form_login = LoginForm()\n",
    "    return render_template(\"login.html\", form=form_login)    \n",
    "```"
   ]
  },
  {
   "cell_type": "markdown",
   "id": "acf4228c-6a36-436c-af24-0b52edf2d1e0",
   "metadata": {},
   "source": [
    "### 3. Configurando uma SECRET_KEY"
   ]
  },
  {
   "cell_type": "markdown",
   "id": "a26c4ff0-c4cc-48e2-b05a-ffb5a7d3e820",
   "metadata": {},
   "source": [
    "Para o correto funcionamento com formulários é necessário criar uma SECRET_KEY."
   ]
  },
  {
   "cell_type": "markdown",
   "id": "d836a8d2-4e78-41bc-8f19-5cda7ebd0798",
   "metadata": {},
   "source": [
    "Acesse o arquivo `config.py` e digite: <br/>\n",
    "SECRET_KEY = 'UMA-CHAVE-BEM-SEGURA-AQUI'"
   ]
  },
  {
   "cell_type": "markdown",
   "id": "7b9ed0fe-3e02-4f08-9b81-5209108839ed",
   "metadata": {},
   "source": [
    "### 4. Recebendo o formulário na página HTML"
   ]
  },
  {
   "cell_type": "markdown",
   "id": "5bb8f7e0-4675-415d-ae83-173496407686",
   "metadata": {},
   "source": [
    "* Com base nos exemplos de formulários em [Bootstrap Forms](https://getbootstrap.com/docs/4.0/components/forms/)"
   ]
  },
  {
   "cell_type": "markdown",
   "id": "1a2b2cb0-d047-496a-9716-3a6d06a0f095",
   "metadata": {},
   "source": [
    "```\n",
    "<div class=\"col-md-4 col-md-offset-4\">\n",
    "    <form action=\"\" method=\"POST\">\n",
    "        {{ form.csrf_token }}\n",
    "      <div class=\"form-group\">\n",
    "        <label for=\"username\">Username</label>\n",
    "        {{ form.username(class='form-control', placeholder='Seu username') }}\n",
    "      </div>\n",
    "\n",
    "      <div class=\"form-group\">\n",
    "        <label for=\"password\">Password</label>\n",
    "        {{ form.password(class='form-control') }}\n",
    "      </div>\n",
    "\n",
    "      <div class=\"checkbox\">\n",
    "        <label for=\"remember\">Remember-me</label>\n",
    "      </div>\n",
    "      \n",
    "      <button type=\"submit\" class=\"btn btn-primary\">Submit</button>\n",
    "    </form>\n",
    "</div>\n",
    "```\n",
    "\n",
    "**OBS**: Lembre-se de permitir que a função con controlador aceite o método POST com o parâmetro \"methods=['GET', 'POST']\" e SEMPRE lembre-se de acrescentar o \"Token CSRF\" no formulário."
   ]
  },
  {
   "cell_type": "markdown",
   "id": "b06617bf-35cd-477b-ba0e-57bbe5175cd5",
   "metadata": {},
   "source": [
    "### 5. Validando o formulário na classe Controladora"
   ]
  },
  {
   "cell_type": "markdown",
   "id": "af9d88d0-c154-4f40-aba2-563011bc5c62",
   "metadata": {},
   "source": [
    "```\n",
    "@app.route(\"/login\", methods=['GET, POST'])\n",
    "def login():\n",
    "    form_login = LoginForm()\n",
    "    if form_login.validate_on_submit():\n",
    "            pass\n",
    "    else: \n",
    "            pass\n",
    "    return render_template(\"login.html\", form=form_login)    \n",
    "```"
   ]
  },
  {
   "cell_type": "markdown",
   "id": "20b39983-4f00-4914-bd4e-000a80f5d00d",
   "metadata": {},
   "source": [
    "### 6. Tratando Erros no Formulário HTML"
   ]
  },
  {
   "cell_type": "markdown",
   "id": "5e547650-4278-4f5c-b730-125d63453f4d",
   "metadata": {},
   "source": [
    "O formulário recebe uma lista no objeto `form.errors`.<br />\n",
    "Para apresentar os erros, basta acessar os errors por cada campo: <br/>\n",
    "1. form.errors.username\n",
    "1. form.errors.password"
   ]
  },
  {
   "cell_type": "markdown",
   "id": "90b60cd2-10ef-4bef-8b7b-eceeaf90ab58",
   "metadata": {},
   "source": [
    "**Dica:** Para um alerta de erro bem apresentável, utilize o que o [Bootstrap Alerts](https://getbootstrap.com/docs/4.0/components/alerts/) oferece"
   ]
  },
  {
   "cell_type": "code",
   "execution_count": null,
   "id": "fc01096b-266a-4661-b29e-b75622cd15ba",
   "metadata": {},
   "outputs": [],
   "source": []
  }
 ],
 "metadata": {
  "kernelspec": {
   "display_name": "Python 3 (ipykernel)",
   "language": "python",
   "name": "python3"
  },
  "language_info": {
   "codemirror_mode": {
    "name": "ipython",
    "version": 3
   },
   "file_extension": ".py",
   "mimetype": "text/x-python",
   "name": "python",
   "nbconvert_exporter": "python",
   "pygments_lexer": "ipython3",
   "version": "3.8.10"
  }
 },
 "nbformat": 4,
 "nbformat_minor": 5
}
