{
 "cells": [
  {
   "cell_type": "markdown",
   "id": "5a2ec2fb-2cad-4438-a74b-0ed17f2ec93e",
   "metadata": {},
   "source": [
    "# Templates - Parte 1"
   ]
  },
  {
   "cell_type": "markdown",
   "id": "74bcfb11-c8e8-411d-92e2-cf1f9464b97a",
   "metadata": {},
   "source": [
    "### 1. Conceitos Iniciais"
   ]
  },
  {
   "cell_type": "markdown",
   "id": "245fbca4-3cde-403b-9894-780a3038a996",
   "metadata": {},
   "source": [
    "São as páginas HTML, construídas por tags HTML, CSS e Javascript, que estruturam uma página para o usuário.\n",
    "Para guradar os arquivos de \"templates\" ou os arquivos HTML há o diretório \"/templates\".\n",
    "Para complementar os \"templates\" há o diretório \"/static\"."
   ]
  },
  {
   "cell_type": "markdown",
   "id": "e512a26a-0f43-4bc3-afb0-c7e94a7ae684",
   "metadata": {},
   "source": [
    "### 2. Renderizando um arquivo HTML com \"render_template\""
   ]
  },
  {
   "cell_type": "markdown",
   "id": "df2d7f82-538f-4cd0-9f75-694c277f66a9",
   "metadata": {},
   "source": [
    "> O \"render_template\" vai em busca de páginas HTML dentro do diretório templates, por padrão."
   ]
  },
  {
   "cell_type": "markdown",
   "id": "57d7d110-df7c-4515-99a0-ddcd93e8236a",
   "metadata": {},
   "source": [
    "* Básico"
   ]
  },
  {
   "cell_type": "markdown",
   "id": "545ce1c4-931d-458a-a62e-3fa2721d8f2c",
   "metadata": {},
   "source": [
    "```\n",
    "# importe a classe/função\n",
    "from flask import render_template\n",
    "\n",
    "@app.route(\"/index\")\n",
    "@app.route(\"/\")\n",
    "def paginaInicial():\n",
    "    return render_template(\"index.html\") # Procura por 'index.html' no diretório 'templates', por padrão.\n",
    "```"
   ]
  },
  {
   "cell_type": "markdown",
   "id": "416b36ad-6e9b-4318-ace0-c1993f0e0e35",
   "metadata": {},
   "source": [
    "* Página HTML com parâmetros"
   ]
  },
  {
   "cell_type": "markdown",
   "id": "9b0ae8e8-1955-433b-8a3e-49297a2d9829",
   "metadata": {},
   "source": [
    "```\n",
    "# No controller\n",
    "@app.route(\"/index/<nameUser>\")\n",
    "@app.route(\"/\", defaults={\"nameUser\":None})\n",
    "def paginaInicial(nameUser):\n",
    "    return render_template(\"index.html\", user=nameUser) \n",
    "    \n",
    "# Na página HTML\n",
    "..\n",
    "<body>\n",
    "<h2>Página inicial!</h2>\n",
    "{% if user: %}\n",
    "    <p>User: {{ user }}</p>\n",
    "{% else %}\n",
    "    <p>Seja bem vindo user!</p>\n",
    "{% endif %}\n",
    "</body>\n",
    "...\n",
    "```"
   ]
  },
  {
   "cell_type": "markdown",
   "id": "73b7a417-53f6-43dd-aaa3-f4b276d5a743",
   "metadata": {},
   "source": [
    "* Obtendo a `querystring` como parâmetro da chamad URL"
   ]
  },
  {
   "cell_type": "markdown",
   "id": "d66edde2-1953-4d2a-a1e1-d32a2af29ab8",
   "metadata": {},
   "source": [
    "> Suponha uma chamada como http://localhost:5000/Nome=Fred&Idade=38\n",
    "\n",
    "```\n",
    "# No controller\n",
    "@app.route(\"/load\")\n",
    "def loadPage():\n",
    "    id = 1\n",
    "    novoTipo = 'novo'\n",
    "    queryParam=request.args.to_dict()\n",
    "    return render_template(\"load.html\", id=id, tipo=novoTipo, query=queryParam) \n",
    "    \n",
    "# Na página HTML\n",
    "..\n",
    "<body>\n",
    "\n",
    "<h2>Página inicial!</h2>\n",
    "{% if id == 1 & tipo == 'novo': %}\n",
    "    <table>\n",
    "        <!-- O resultado abaixo seria: -->\n",
    "        <!-- Nome: Fred -->\n",
    "        <!-- Idade: 38 -->\n",
    "        {{ for k, v in query.items() }}\n",
    "            <th> {{ k }}</th>\n",
    "            <td> {{ v }}</td>\n",
    "        {{ endfor }}\n",
    "    </table>\n",
    "{% else %}\n",
    "    <p>Nada a apresentar!</p>\n",
    "{% endif %}\n",
    "\n",
    "</body>\n",
    "...\n",
    "```"
   ]
  },
  {
   "cell_type": "markdown",
   "id": "f7a03190-ad78-4391-aa1d-56f88676c3aa",
   "metadata": {},
   "source": [
    "**OBS: É importante lembrar que a sintaxe python só é reconhecida, pelo navegador, na página HTML por causa da biblioteca Jinja que foi instalada.**"
   ]
  },
  {
   "cell_type": "markdown",
   "id": "a04dd84c-9907-42fe-8f04-5d519d361275",
   "metadata": {},
   "source": [
    "### 3. Templates e Bootstrap"
   ]
  },
  {
   "cell_type": "markdown",
   "id": "032032b0-3f6e-495c-8370-8ddadf19f1d1",
   "metadata": {},
   "source": [
    "* Baixe o Bootstrap: https://getbootstrap.com/docs/4.1/getting-started/download/\n",
    "> Encontre o diretório \"/dist\" do Bootstrap e copie os diretórios dentro dele (/css e /js) para \"/static\" do seu projeto:"
   ]
  },
  {
   "cell_type": "markdown",
   "id": "fc1b4a9e-61ce-4d85-bb03-82fefe94e113",
   "metadata": {},
   "source": [
    "* Inclua os arquivos do Bootstrap nos templates com **\"url_for\"**"
   ]
  },
  {
   "cell_type": "markdown",
   "id": "cfdd76fb-0ed8-4c55-89e4-5917361a5102",
   "metadata": {},
   "source": [
    "```\n",
    "<p> No início da página HTML, dentro das tags \"<head> </head>\"  </p>\n",
    "    <link rel=\"stylesheet\" href=\"{{ url_for('static', filename='css/bootstrap.min.css') }}\" />\n",
    "```"
   ]
  },
  {
   "cell_type": "markdown",
   "id": "04acc7d9-ea5b-4d41-bc12-a2fb484bf61c",
   "metadata": {},
   "source": [
    "```\n",
    "<p> No final da página HTML, antes da tag </body>  </p>\n",
    "    <script src=\"{{ url_for('static', filename='js/bootstrap.min.js') }}\" />\n",
    "```"
   ]
  },
  {
   "cell_type": "markdown",
   "id": "67299e70-0dd3-43a2-af95-2367f8215510",
   "metadata": {},
   "source": [
    "### 4. Adicionando JQuery ao projeto"
   ]
  },
  {
   "cell_type": "markdown",
   "id": "b7b73ce6-7441-4fad-9cdb-f85a834df17e",
   "metadata": {},
   "source": [
    "* Acesse a página do [Bootstrap](https://getbootstrap.com/docs/4.2/getting-started/introduction/)"
   ]
  },
  {
   "cell_type": "markdown",
   "id": "cfc58bb7-1390-4d77-97ca-1dfdbe9ec989",
   "metadata": {},
   "source": [
    "> Baixe o arquivo `.js` existente em `src`:<br/>\n",
    "    < script src=\"https://code.jquery.com/jquery-3.3.1.slim.min.js\">< /script><br/>\n",
    "    Crie o arquivo `jquery-3.3.1.slim.min.js` e salve dentro do diretório `app/static/js/` <br/>"
   ]
  }
 ],
 "metadata": {
  "kernelspec": {
   "display_name": "Python 3 (ipykernel)",
   "language": "python",
   "name": "python3"
  },
  "language_info": {
   "codemirror_mode": {
    "name": "ipython",
    "version": 3
   },
   "file_extension": ".py",
   "mimetype": "text/x-python",
   "name": "python",
   "nbconvert_exporter": "python",
   "pygments_lexer": "ipython3",
   "version": "3.8.10"
  }
 },
 "nbformat": 4,
 "nbformat_minor": 5
}
