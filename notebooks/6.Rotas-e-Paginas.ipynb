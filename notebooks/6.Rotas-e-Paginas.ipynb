{
 "cells": [
  {
   "cell_type": "markdown",
   "id": "d4bdbb49-f60f-4711-8bb1-8b27b116272a",
   "metadata": {},
   "source": [
    "# Rotas e Páginas"
   ]
  },
  {
   "cell_type": "markdown",
   "id": "fcd9d024-fa79-4840-a394-d56f825895d1",
   "metadata": {},
   "source": [
    "| [Anterior](5.Bancos-de-Dados-Models.ipynb)| [Próximo](7.Templates-parte1.ipynb)     | \n",
    "| :------------- | :----------:|"
   ]
  },
  {
   "cell_type": "markdown",
   "id": "8938cbca-4d21-420a-af21-cfea14f1ebf0",
   "metadata": {},
   "source": [
    "### 1. O que é uma rota?"
   ]
  },
  {
   "cell_type": "markdown",
   "id": "4a8fea95-bb90-4e5e-95d2-878bf02a0652",
   "metadata": {},
   "source": [
    "É uma função ou configuração/decorator que retorna dados ou redireciona a aplicação para uma outra página."
   ]
  },
  {
   "cell_type": "markdown",
   "id": "5bf13c96-9633-4450-bab9-0d38b0168aeb",
   "metadata": {},
   "source": [
    "### 2. Várias rotas em uma mesma função"
   ]
  },
  {
   "cell_type": "markdown",
   "id": "fdf7336b-0520-4f47-b355-15b55b390670",
   "metadata": {},
   "source": [
    "```\n",
    "# Duas rotas \"/rota\" e \"/rota1\" irão retornar o valor \"Olá Rota!\"\n",
    "@app.route(\"/rota1\")\n",
    "@app.route(\"/rota\")\n",
    "def minhaRota():\n",
    "    return \"Olá Rota!\"\n",
    "```"
   ]
  },
  {
   "cell_type": "markdown",
   "id": "a7d52eeb-aaab-498b-a489-86bf98a0a57e",
   "metadata": {},
   "source": [
    "### 3. Rotas com parâmetros"
   ]
  },
  {
   "cell_type": "markdown",
   "id": "c2b3b4f8-9325-4d2a-8dfd-541874451289",
   "metadata": {},
   "source": [
    "* **Básica**"
   ]
  },
  {
   "cell_type": "markdown",
   "id": "af533326-7841-4c8f-add8-2025cd06d91b",
   "metadata": {},
   "source": [
    "```\n",
    "@app.route(\"/rota/<nome>\")\n",
    "def minhaRota(nome):\n",
    "    if (nome == \"exemplo\"):\n",
    "        return \"Valor exemplo.\"\n",
    "    return \"Olá Rota!\"\n",
    "```"
   ]
  },
  {
   "cell_type": "markdown",
   "id": "bb7ffa8b-bb1d-4c56-a105-38156dd3cbe1",
   "metadata": {},
   "source": [
    "* **Com parâmetro e valor padrão/default (em duas maneiras)**"
   ]
  },
  {
   "cell_type": "markdown",
   "id": "0fbc068c-c12a-4291-8b57-5e5fa2ecadfb",
   "metadata": {},
   "source": [
    "```\n",
    "# Exemplo 1\n",
    "@app.route(\"/rota/<nome>\")\n",
    "def minhaRota(nome=\"vazio\"):\n",
    "    if (nome == \"exemplo\"):\n",
    "        return \"Valor exemplo.\"\n",
    "    return \"Olá Rota!\"\n",
    "    \n",
    "# Exemplo 2\n",
    "@app.route(\"/rota/<nome>\", defaults={\"nome\"=None})\n",
    "def minhaRota(nome):\n",
    "    if (nome == \"exemplo\"):\n",
    "        return \"Valor exemplo.\"\n",
    "    return \"Olá Rota!\"\n",
    "```"
   ]
  },
  {
   "cell_type": "markdown",
   "id": "f48ddbf9-4448-4543-adc5-61977a27fbea",
   "metadata": {},
   "source": [
    "* **Com parâmetros e tipos**"
   ]
  },
  {
   "cell_type": "markdown",
   "id": "6e22554a-3d68-4aec-a3a7-df92a4418e3f",
   "metadata": {},
   "source": [
    "```\n",
    "@app.route(\"/rota/<int:id>\")\n",
    "def minhaRota(id):\n",
    "    if id > 10:\n",
    "        return \"Maior\"\n",
    "    else:\n",
    "        return \"Menor\"\n",
    "```"
   ]
  },
  {
   "cell_type": "markdown",
   "id": "69652cef-f827-4594-90d9-97dd80419be3",
   "metadata": {},
   "source": [
    "* **Com definição de métodos HTTP**"
   ]
  },
  {
   "cell_type": "markdown",
   "id": "5632e939-435d-4050-b139-88c866ad544c",
   "metadata": {},
   "source": [
    "```\n",
    "from flask import render_template, request\n",
    "\n",
    "# Indica os métodos HTTP que serão aceitos no método\n",
    "@app.route(\"/rota/\", methods=[GET, POST])\n",
    "def minhaRota():\n",
    "    return \"Method aceito!\"\n",
    "```\n",
    "\n",
    "```\n",
    "# Rota com diversos \"methods http\"\n",
    "@app.route(\"/completa\", methods=[GET, POST, PUT, DELETE])\n",
    "def rotaCompleta():\n",
    "    # Não esqueça de importar a biblioteca 'request', antes de usá-la\n",
    "    if request.method == 'POST':\n",
    "        print('O método foi POST.)\n",
    "    elif request.method == 'GET': \n",
    "        print('O método foi GET')\n",
    "    else:\n",
    "        print('O método foi PUT ou DELETE')\n",
    "    return \"Métodos aceitos!\"\n",
    "```"
   ]
  },
  {
   "cell_type": "markdown",
   "id": "5e3c8f7f-6299-42a2-80e7-15bc72c0e135",
   "metadata": {},
   "source": [
    "* **Obtendo os campos do formulário com o objeto request**"
   ]
  },
  {
   "cell_type": "markdown",
   "id": "c699c2ec-ca66-4572-a57a-583b6793fe64",
   "metadata": {},
   "source": [
    "```\n",
    "from flask import render_template, request\n",
    "from json import dumps\n",
    "\n",
    "# Rota com diversos \"methods http\"\n",
    "@app.route(\"/completa\", methods=[GET, POST, PUT, DELETE])\n",
    "def rotaCompleta():\n",
    "    # Mostra os campos do formulário no formato JSON\n",
    "    print(dumps(request.form))\n",
    "    \n",
    "    # Não esqueça de importar a biblioteca 'request', antes de usá-la\n",
    "    if request.method == 'POST':\n",
    "        print('O método foi POST. Parâmetro name: {0}'.format(request.form['name']))\n",
    "    elif request.method == 'GET': \n",
    "        print('O método foi GET')\n",
    "    else:\n",
    "        print('O método foi PUT ou DELETE')\n",
    "    return \"Métodos aceitos!\"\n",
    "```\n",
    "\n",
    "```\n",
    "@app.route(\"/index\")\n",
    "def index():\n",
    "    print(request.method, request.args)\n",
    "    print(request.args['name'])\n",
    "    print(request.cookies)\n",
    "    \n",
    "    return \"OK\"\n",
    "```"
   ]
  },
  {
   "cell_type": "markdown",
   "id": "6b6538d4-0a37-4f0c-bfcc-e4cf7d8ee448",
   "metadata": {},
   "source": [
    "### 4. Redirecionamento de Rotas (code=302)"
   ]
  },
  {
   "cell_type": "markdown",
   "id": "b7b35eb8-138a-4ff0-8e11-8022325b2d82",
   "metadata": {},
   "source": [
    "```\n",
    "from flask import render_template, request, redirect, url_for\n",
    "\n",
    "@app.route(\"/login, methods=['POST', 'GET']\")\n",
    "def login():\n",
    "    if request.method == 'POST':\n",
    "        if request.form['username'] == 'admin' && request.form['pass'] == 'admin':\n",
    "            return redirect(url_for('login_sucesso'), code=200) # Code=200 espera a confirmação do usuário para prosseguir\n",
    "            ou\n",
    "            return redirect(url_for('login_sucesso'), code=301) # Code=301 redireciona automaticamente\n",
    "        else:\n",
    "            abort(401) # Indica \"401 Unauthorized\", ou seja, Não autorizado\n",
    "    else:\n",
    "        abort(403) # Indica \"403 Forbidden\", ou seja, Permissão Negada\n",
    "            \n",
    "@app.route('/sucesso', methods=['POST'])\n",
    "def login_sucesso():    \n",
    "    return render_template(\"sucesso.html\")\n",
    "    \n",
    "```"
   ]
  }
 ],
 "metadata": {
  "kernelspec": {
   "display_name": "Python 3 (ipykernel)",
   "language": "python",
   "name": "python3"
  },
  "language_info": {
   "codemirror_mode": {
    "name": "ipython",
    "version": 3
   },
   "file_extension": ".py",
   "mimetype": "text/x-python",
   "name": "python",
   "nbconvert_exporter": "python",
   "pygments_lexer": "ipython3",
   "version": "3.8.10"
  }
 },
 "nbformat": 4,
 "nbformat_minor": 5
}
