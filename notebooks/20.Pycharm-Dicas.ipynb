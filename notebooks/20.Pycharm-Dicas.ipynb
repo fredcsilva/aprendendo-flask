{
 "cells": [
  {
   "cell_type": "markdown",
   "id": "43b3c456-6687-4fb7-ac25-166cda913f92",
   "metadata": {},
   "source": [
    "# Pycharm - DICAS"
   ]
  },
  {
   "cell_type": "markdown",
   "id": "1ead005d-b9bf-4b9e-9e82-5493e3be590f",
   "metadata": {},
   "source": [
    "### 1. Pycharm e Debug"
   ]
  },
  {
   "cell_type": "markdown",
   "id": "39f6a903-e912-41b0-9f70-25d48635980e",
   "metadata": {},
   "source": [
    "* Ativando o debug e observando as variáveis:"
   ]
  },
  {
   "cell_type": "markdown",
   "id": "988f036a-5525-4857-9807-ddeb350d6c78",
   "metadata": {},
   "source": [
    "1. Ative o debug: Clique no canto esquerdo (numeração) da área de codificação e ative-o.\n",
    "2. Execute o código com a opção `Debug`\n",
    "3. Passe o mouse por cima da linha selecionada e visualize o `+ LocalProxy`\n",
    "4. Clique e abra para mostrar as variáveis que vêm com a requisição"
   ]
  },
  {
   "cell_type": "markdown",
   "id": "8e49f20f-49c2-402e-adbb-8c604dbe0769",
   "metadata": {},
   "source": [
    "![Depurando - Parte 1](./images/debug_pycharm_p1.png)"
   ]
  },
  {
   "cell_type": "markdown",
   "id": "b75b68c8-6890-46de-af9a-46881491f1fb",
   "metadata": {},
   "source": [
    "5. Dirija-se até a variável `form` e observa os campos existentes no formulário HTML. **OBS:** `form`é um array de variáveis.\n",
    "Portanto, para capturar o valor de uma variável, faça da seguinte maneira:\n",
    "> `request.form['nome']`"
   ]
  },
  {
   "cell_type": "markdown",
   "id": "85b94ebd-8f0e-49e2-a704-7c5346e264d2",
   "metadata": {},
   "source": [
    "![Depurando - Parte 2](./images/debug_pycharm_p2.png)"
   ]
  },
  {
   "cell_type": "code",
   "execution_count": null,
   "id": "b40fda06-3475-4ff9-a253-b4c6373fb7a8",
   "metadata": {},
   "outputs": [],
   "source": []
  }
 ],
 "metadata": {
  "kernelspec": {
   "display_name": "Python 3 (ipykernel)",
   "language": "python",
   "name": "python3"
  },
  "language_info": {
   "codemirror_mode": {
    "name": "ipython",
    "version": 3
   },
   "file_extension": ".py",
   "mimetype": "text/x-python",
   "name": "python",
   "nbconvert_exporter": "python",
   "pygments_lexer": "ipython3",
   "version": "3.8.10"
  }
 },
 "nbformat": 4,
 "nbformat_minor": 5
}
