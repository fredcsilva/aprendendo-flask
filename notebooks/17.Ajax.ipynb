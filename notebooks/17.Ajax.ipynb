{
 "cells": [
  {
   "cell_type": "markdown",
   "id": "42a8edb2-cbe0-49ae-8952-c4ea43a932fb",
   "metadata": {},
   "source": [
    "# Flask e AJAX"
   ]
  },
  {
   "cell_type": "markdown",
   "id": "528cd637-1ef8-4d97-8e4f-2d2b21092fec",
   "metadata": {},
   "source": [
    "### 1. Ajax"
   ]
  },
  {
   "cell_type": "markdown",
   "id": "81528431-8094-4abd-a410-22483eec38cb",
   "metadata": {},
   "source": [
    "- **Importando as bibliotecas na página HTML**"
   ]
  },
  {
   "cell_type": "markdown",
   "id": "74cf7a3d-50d9-4a58-9c12-f61712783e5b",
   "metadata": {},
   "source": [
    "Uma das formas de fazer Ajax funcionar é utilizando jQuery. <br/>\n",
    "Portanto, importe-o em sua página HTML. <br/>\n",
    "< script src=\"https://code.jquery.com/jquery-3.3.1.slim.min.js\">< /script><br/>"
   ]
  },
  {
   "cell_type": "markdown",
   "id": "92bb794b-80d5-449b-8e83-c782e571368c",
   "metadata": {},
   "source": [
    "- **Identifique o seu formulário HTML (`form`) com um `id`. (Ex: id=form-login)**"
   ]
  },
  {
   "cell_type": "markdown",
   "id": "be5b4b44-26a9-4894-a68a-cce200baa076",
   "metadata": {},
   "source": [
    "- **Prepare o seu arquivo javascript**\n",
    "\n",
    "```\n",
    "$(document).ready(function(){\n",
    "\n",
    "    function ajax_login() {\n",
    "        $.ajax({\n",
    "          url: \"ajax-login\",\n",
    "          data: $('form').serialize(),\n",
    "          type: \"POST\",\n",
    "          success: function(response) {\n",
    "              console.log(response)\n",
    "          },\n",
    "          error: function(error) {\n",
    "              console.log(error)\n",
    "          },          \n",
    "        });\n",
    "    }\n",
    "    \n",
    "    $(\"login-form\").submit( function(event) {\n",
    "        event.preventDefault();\n",
    "        ajax_login();\n",
    "    });\n",
    "    \n",
    "});\n",
    "\n",
    "```"
   ]
  },
  {
   "cell_type": "markdown",
   "id": "2a5af9e7-c9ac-4215-9794-5c632faa0bc5",
   "metadata": {},
   "source": [
    "- **Prepare o seu código no Controller `(app.py)`**\n",
    "\n",
    "```\n",
    "from flask import request\n",
    "import json\n",
    "\n",
    "@app.route(\"/ajax-login\", methods=['POST'])\n",
    "def loginAjax():\n",
    "    # Este formulário conterá o username, password e o csrf_token\n",
    "    print request.form \n",
    "    \n",
    "    username = request.form['username']\n",
    "    response = {'sataus': 200, 'username': username, 'id': 1}\n",
    "    \n",
    "    return json.dumps(response)\n",
    "```"
   ]
  }
 ],
 "metadata": {
  "kernelspec": {
   "display_name": "Python 3 (ipykernel)",
   "language": "python",
   "name": "python3"
  },
  "language_info": {
   "codemirror_mode": {
    "name": "ipython",
    "version": 3
   },
   "file_extension": ".py",
   "mimetype": "text/x-python",
   "name": "python",
   "nbconvert_exporter": "python",
   "pygments_lexer": "ipython3",
   "version": "3.8.10"
  }
 },
 "nbformat": 4,
 "nbformat_minor": 5
}
