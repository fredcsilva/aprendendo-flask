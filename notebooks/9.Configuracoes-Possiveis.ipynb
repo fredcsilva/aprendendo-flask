{
 "cells": [
  {
   "cell_type": "markdown",
   "id": "cb3319cd-ec55-42ae-9aa4-6f71107ab930",
   "metadata": {},
   "source": [
    "# Configurações Possíveis no Flask"
   ]
  },
  {
   "cell_type": "markdown",
   "id": "7c5c91fc-2fdd-4da5-8f04-4b4307b3d1c5",
   "metadata": {},
   "source": [
    "| [Anterior](8.Templates-parte2.ipynb)| [Próximo](10.Formularios.ipynb)     | \n",
    "| :------------- | :----------:|"
   ]
  },
  {
   "cell_type": "markdown",
   "id": "325bf06a-2ea8-4d94-808b-05adbb069429",
   "metadata": {},
   "source": [
    "### 1. Depurando o código no Pycharm"
   ]
  },
  {
   "cell_type": "markdown",
   "id": "ad2f76a0-c12a-4443-8b01-081ed242c642",
   "metadata": {},
   "source": [
    "- E como obter o valor dos campos do formulário?\n",
    "\t- No \"pycharm\", faça um debug e identifique a variável que armazena essas informações.\n",
    "\t- É possível observar que \"request.form\" é um array que armazena os valores dos campos do formulário HTML.\n",
    "\t- E,por exemplo, o comando \"request.form['name']\" obtém o valor existente no campo nome do formulário.\n",
    "\t- E, se for necessário transformar os valores do formulário em \"json\", faça o seguinte:\n",
    "\t\t1. from json import dumps\n",
    "\t\t2. return dumps(request.form)\n",
    "\t\t\n",
    "- Como depurar uma aplicação com Pycharm?\n",
    "\t- Clique na linha desejada (deixe-a marcada com o ponto vermelho nela)\n",
    "\t- Clique no código + botão direito + debug ou \"Run Debug...\" ou \"Shift + F9\"\n",
    "\t- Execute as ações no código HTML\n",
    "\t- Volte para o Pycharm e observe a depuração:\n",
    "\t\t1. Passeo o mouse sobre a variável desejada (Ex: request) que irá aparecer um menu suspenso\n",
    "\t\t2. Clique no menu e observe todas as variáveis e valores disponíveis para a variável escolhida\n",
    "\n"
   ]
  },
  {
   "cell_type": "markdown",
   "id": "ba848dcd-3b5b-4757-867c-1a893be6c4fa",
   "metadata": {},
   "source": [
    "### 2. Arquivos Estáticos"
   ]
  },
  {
   "cell_type": "markdown",
   "id": "e8ccbdd2-ba34-4fc2-ad35-5f403406f1c0",
   "metadata": {},
   "source": [
    "Por padrão, o Flask utiliza o diretório \"/static\" para guardar arquivos css, javascript e imagens. <br/>\n",
    "> static/css <br/>\n",
    "> static/img <br/>\n",
    "> static/js <br/>\n",
    "\n",
    "Também é possível armazenar páginas HTMLs estáticas e chamá-la diretamente, sem a necessidade de criar rotas específicas.\n",
    "> Crie o arquivo 'static_page.html' dentro do diretório '/static'. <br/>\n",
    "> Acesse \"http://127.0.0.1:5000/static/static_page.html\" para visualizar o conteúdo do arquivo criado."
   ]
  },
  {
   "cell_type": "markdown",
   "id": "598d9887-c168-4196-ad8d-48ad55973d70",
   "metadata": {},
   "source": [
    "- Se for necessário alterar o diretório dos arquivos estáticos:<br/>\n",
    "> `app = Flask(name, static_folder='public')`\n",
    "\n",
    "Para este caso, o diretório \"public\" precisa estar criado."
   ]
  },
  {
   "cell_type": "markdown",
   "id": "bb7eb6a2-6ad7-47f2-911d-ce504b37c833",
   "metadata": {},
   "source": [
    "- Carregando arquivos locais (imagens, css ou javascript)"
   ]
  },
  {
   "cell_type": "markdown",
   "id": "eb252a4e-1223-447b-bc1e-43770e945129",
   "metadata": {},
   "source": [
    "> < script type=\"text/javascript\" src=\"{{ url_for('static', filename='js/jquery.js') }}\" />"
   ]
  },
  {
   "cell_type": "markdown",
   "id": "fc498434-ca94-439c-843f-5dcfb246b239",
   "metadata": {},
   "source": [
    "> < img src=\"{{ url_for('static', filename='img/home.png') }}\" />"
   ]
  },
  {
   "cell_type": "markdown",
   "id": "bedd8600-542c-47d5-92f0-e62f2065a130",
   "metadata": {},
   "source": [
    "### 3. Macros (Poderia fazer com `Macros` algo semelhante a `Widgets`?)"
   ]
  },
  {
   "cell_type": "markdown",
   "id": "22942620-c26a-4932-bf3e-12c75a916c4a",
   "metadata": {},
   "source": [
    "Quando se deseja reduzir duplicação de código:"
   ]
  },
  {
   "cell_type": "markdown",
   "id": "17438f96-bc03-4119-960b-624c0099852f",
   "metadata": {},
   "source": [
    "> `_macro.html`\n",
    "\n",
    "```\n",
    "{% macro show_list(value) %}\n",
    "    <h1> {{ value }} </h1>\n",
    "    <h2> {{ value }} </h2>\n",
    "    <h3> {{ value }} </h3>\n",
    "{% endmacro %}\n",
    "```"
   ]
  },
  {
   "cell_type": "markdown",
   "id": "6b02e59e-472e-4b77-bbb1-de24f9e3200c",
   "metadata": {},
   "source": [
    "> `index.html`\n",
    "\n",
    "```\n",
    "{% extends 'base/base.html' %}\n",
    "{% block title %} {{ title }} {% endblock %}\n",
    "\n",
    "{% block content %} \n",
    "    {% from \"_macro.html\" import show_list %}\n",
    "    {{ show_list( title ) }} \n",
    "{% endblock %}\n",
    "```"
   ]
  },
  {
   "cell_type": "markdown",
   "id": "4949886a-284e-4cb6-ab82-b1a77d136118",
   "metadata": {},
   "source": [
    "### 4. Error 404"
   ]
  },
  {
   "cell_type": "markdown",
   "id": "9d4cd02f-5534-4d66-bc32-f410ad106ae2",
   "metadata": {},
   "source": [
    "Uma forma de tratar as chamadas a URLs não existentes."
   ]
  },
  {
   "cell_type": "markdown",
   "id": "b7536900-b1a8-4864-ac3b-b63e5f04e3cc",
   "metadata": {},
   "source": [
    "1. Para começar, o decorator utilizado será o `errohandler` na página principal (controller) da aplicação `app.py`"
   ]
  },
  {
   "cell_type": "markdown",
   "id": "e3e0ff5a-4391-4c3c-9b9f-3f847cfea985",
   "metadata": {},
   "source": [
    "```\n",
    "from flask import render_template\n",
    "\n",
    "@app.errorhandler(403)\n",
    "@app.errorhandler(404)\n",
    "def page_not_founde(e):\n",
    "    return render_template('404.html')\n",
    "```    "
   ]
  },
  {
   "cell_type": "markdown",
   "id": "12f3599f-d8a2-4542-98df-c17342eabb8d",
   "metadata": {},
   "source": [
    "2. Crie a página 404.html\n",
    "\n",
    "```\n",
    "<html>\n",
    "    ...\n",
    "    <body>\n",
    "        <p class=\"message_error\">Desculpem-nos pelos transtornos! Esta página não foi encontrada.</p>\n",
    "    </body>\n",
    "    ...\n",
    "</html>\n",
    "```"
   ]
  },
  {
   "cell_type": "markdown",
   "id": "74ed8f87-b206-44db-9402-ec48bacd25e6",
   "metadata": {},
   "source": [
    "### 5. `Before` e `After` requests (`Decorators`)"
   ]
  },
  {
   "cell_type": "markdown",
   "id": "31079949-ea6d-4576-949d-8859e3f65601",
   "metadata": {},
   "source": [
    "Um exemplo de uma situação comum desse tipo de `Decorator` é quando necessitamos realizar uma consulta a uma banco de dados. Previamente é necessário saber se uma conexão com o banco de dados já foi criada."
   ]
  },
  {
   "cell_type": "markdown",
   "id": "ca67788e-4544-4cfe-b374-cbf5689e226d",
   "metadata": {},
   "source": [
    "- **Decorador `before_request`**\n",
    "\n",
    "```\n",
    "Realiza uma tarefa antes de iniciar a requisição.\n",
    "\n",
    "from flask import request\n",
    "\n",
    "@app.before_request()\n",
    "def before_request():\n",
    "    if 'username' not in session:\n",
    "        print 'Você está na página {}'.format(request.endpoint)\n",
    "        print 'O usuário não fez login.'\n",
    "```"
   ]
  },
  {
   "cell_type": "markdown",
   "id": "c45a878a-fbe7-4984-a507-fe16e36896ed",
   "metadata": {},
   "source": [
    "- **Decorador `after_request`**\n",
    "\n",
    "```\n",
    "Realiza uma tarefa logo após de uma requisição.\n",
    "Sempre deverá retornar o response do parâmetro da função.\n",
    "Um exemploque poder ser útil é o de finalizar uma conexão com o banco de dados após realizar uma consulta.\n",
    "\n",
    "from flask import request\n",
    "\n",
    "@app.after_request()\n",
    "def after_request(response):\n",
    "   print \"Do anything\" \n",
    "   return response\n",
    "```"
   ]
  },
  {
   "cell_type": "markdown",
   "id": "77d30781-e937-4d30-b8f5-4084ec45c1c6",
   "metadata": {},
   "source": [
    "### 6. Global"
   ]
  },
  {
   "cell_type": "markdown",
   "id": "23c21397-8ad6-456a-92b9-5e8decd02d66",
   "metadata": {},
   "source": [
    "Variáveis que serão compartilhadas por toda a aplicação. <br/>\n",
    "Variáveis globais ainda não são thread-safe porque ainda não há proteção contra a maioria das condições de corrida. <br/>\n",
    "Para trabalhar com variáveis globais..."
   ]
  },
  {
   "cell_type": "markdown",
   "id": "9088cbb8-d78e-452d-b417-725240725863",
   "metadata": {},
   "source": [
    "* **1. Importe a biblioteca**\n",
    "> `from flask import g` "
   ]
  },
  {
   "cell_type": "markdown",
   "id": "8be94035-7dcd-400b-9da0-c9e917fe3ec1",
   "metadata": {},
   "source": [
    "* **2. Crie uma variável global**"
   ]
  },
  {
   "cell_type": "markdown",
   "id": "acc4b679-b7f8-4fff-a6d1-713e46be93a6",
   "metadata": {},
   "source": [
    "```\n",
    "@app.before_request()\n",
    "def before_request():\n",
    "    g.id_number = 1\n",
    "```"
   ]
  },
  {
   "cell_type": "markdown",
   "id": "dbe2a1d5-cc02-4a7a-9794-28b5d28c370b",
   "metadata": {},
   "source": [
    "* **3. Obtenha o valor de uma variável global**"
   ]
  },
  {
   "cell_type": "markdown",
   "id": "874764af-246a-4d70-920c-dd9bedfc1af1",
   "metadata": {},
   "source": [
    "```\n",
    "@app.route(\"/index\")\n",
    "def index():\n",
    "    print g.id_number\n",
    "    ...\n",
    "    return ...\n",
    "```"
   ]
  },
  {
   "cell_type": "markdown",
   "id": "6712ebcc-6dcf-4240-ac60-7ce452e04ac8",
   "metadata": {},
   "source": [
    "### 7. Config"
   ]
  },
  {
   "cell_type": "markdown",
   "id": "4a93aec3-aed1-41c0-9a83-7323ce8df14b",
   "metadata": {},
   "source": [
    "* **1. Criando arquivos de configuração para ambientes diferente**"
   ]
  },
  {
   "cell_type": "markdown",
   "id": "f9b674ba-91f0-463c-a4e9-80c3329e8c0b",
   "metadata": {},
   "source": [
    "1. Crie o arquivo `config.py`\n",
    "2. Crie a classe Config:\n",
    "\n",
    "```\n",
    "class Config(object)\n",
    "    SECRET_KEY = 'jshqw7723uy32iqwk0912'\n",
    "\n",
    "class DevelopmentConfig(Config):\n",
    "    DEBUG=True\n",
    "    PORT=8000\n",
    "    \n",
    "class ProductionConfig(Config):\n",
    "    DEBUG=False \n",
    "    PORT=8181\n",
    "```"
   ]
  },
  {
   "cell_type": "markdown",
   "id": "5f7e84ce-8042-4f01-b403-24439fdd765e",
   "metadata": {},
   "source": [
    "* **3. Import as configurações no seu controlador principal `app.py`**\n",
    "\n",
    "```\n",
    "from config import DevelopmentConfig\n",
    "...\n",
    "\n",
    "app = Flask(__ name __)\n",
    "app.config.from_object(DevelopmentConfig)\n",
    "...\n",
    "\n",
    "if __ name __ == '__ main __':\n",
    "    app.run(port=config.PORT)\n",
    "```"
   ]
  },
  {
   "cell_type": "markdown",
   "id": "d259bc49-c700-4068-aefa-4282461c6f14",
   "metadata": {},
   "source": [
    "### 8. Paginação com SQLAlchemy"
   ]
  },
  {
   "cell_type": "markdown",
   "id": "c02bf6a3-93fd-4aa6-99bd-1f9983c8febf",
   "metadata": {},
   "source": [
    "Uma maneira de paginar o resultado - diversos registros - obtido da bases de dados."
   ]
  },
  {
   "cell_type": "markdown",
   "id": "9d223470-e9e3-42e2-a14e-7f9797a4532f",
   "metadata": {},
   "source": [
    "**1. Na classe controlador (controller) principal `app.py`:**\n",
    "- Envia os comentários para a páginas HTML\n",
    "\n",
    "```\n",
    "from models import Comment\n",
    "\n",
    "@app.route(\"/reviews\", method=['GET'])\n",
    "@app.route(\"/reviews/<int:page>\", method=['GET'])\n",
    "def reviews(page=1):\n",
    "    per_page = 3\n",
    "    comments = Comment.query.join(User).add_columns(User.username, Comment.text).paginate(page,per_page,False)\n",
    "    \n",
    "    return render_template( 'reviews.html', comments=comments )\n",
    "```"
   ]
  },
  {
   "cell_type": "markdown",
   "id": "88e29224-ff04-42a7-a43c-d5f281606900",
   "metadata": {},
   "source": [
    "**2. Na página HTML `reviews.html`:**"
   ]
  },
  {
   "cell_type": "markdown",
   "id": "27126d45-46bb-4469-b90b-a74ca97fc95d",
   "metadata": {},
   "source": [
    "```\n",
    "{% block content %}\n",
    "    ...\n",
    "    {% if comments: %}\n",
    "        {% for comment in comments.item: %}\n",
    "            {{ comment.text }}\n",
    "        {% endfor %}\n",
    "    {% endif %}\n",
    "    ...\n",
    "{% endblock %}\n",
    "```"
   ]
  },
  {
   "cell_type": "markdown",
   "id": "079c9f4b-e272-40a3-9fb6-9c0ed73ccfad",
   "metadata": {},
   "source": [
    "### 9. Helpers (Passando funções como parâmetro)"
   ]
  },
  {
   "cell_type": "markdown",
   "id": "f1aa6786-2a34-4615-ade3-78c6f10fe338",
   "metadata": {},
   "source": [
    "Quando desejamos mostrar uma data na página Web, o formato da data não estará exatamente como desejamos, por isso, utilizamos uma função para formatação de datas."
   ]
  },
  {
   "cell_type": "markdown",
   "id": "cc744b2d-f305-4b3c-a54c-98c375987586",
   "metadata": {},
   "source": [
    "**1. Crie uma classe chamada `helper.py`**"
   ]
  },
  {
   "cell_type": "markdown",
   "id": "a3f57b4a-30b2-4a63-b119-1258361122da",
   "metadata": {},
   "source": [
    "**2. Dentro da classe `helper.py`crie uma função de conversão de datas chamada `my_date_format`**\n",
    "\n",
    "```\n",
    "def my_date_format(value_date):\n",
    "    months = ['january', ..., 'december']\n",
    "    month = months[value_date.month - 1]\n",
    "    return \"{0} de {1} de {}\".format(value.day, month, value.year)    \n",
    "\n",
    "```"
   ]
  },
  {
   "cell_type": "markdown",
   "id": "1dc7900c-4018-412a-8b3d-73cec0899bb8",
   "metadata": {},
   "source": [
    "**3. Importe a funcção `my_date_format` na classe principal `app.py`**"
   ]
  },
  {
   "cell_type": "markdown",
   "id": "490a559f-5580-4514-8467-047c3618b3de",
   "metadata": {},
   "source": [
    "```\n",
    "from helper import date_format\n",
    "```"
   ]
  },
  {
   "cell_type": "markdown",
   "id": "9037aad8-bd9f-43b9-9fad-4aaa13fd6ef6",
   "metadata": {},
   "source": [
    "**4. Passe a função como parâmetro**"
   ]
  },
  {
   "cell_type": "markdown",
   "id": "55f1baf9-52e0-45e3-9541-9b2593574ef0",
   "metadata": {},
   "source": [
    "```\n",
    "...\n",
    "\n",
    "@app.route(\"/reviews\", method=['GET'])\n",
    "@app.route(\"/reviews/<int:page>\", method=['GET'])\n",
    "def reviews(page=1):\n",
    "    ...\n",
    "    \n",
    "    return render_template( 'reviews.html', comments=comments, date_format=my_date_format )\n",
    "```"
   ]
  },
  {
   "cell_type": "markdown",
   "id": "ed561e8b-0ddd-4c50-bca1-136b853d7c70",
   "metadata": {},
   "source": [
    "**5. Use a função na página HTML `reviews.html`**"
   ]
  },
  {
   "cell_type": "markdown",
   "id": "ce474c83-fb39-4de4-bd94-483819a73cf6",
   "metadata": {},
   "source": [
    "```\n",
    "...\n",
    "date_format(comment.create_date)\n",
    "...\n",
    "```"
   ]
  },
  {
   "cell_type": "markdown",
   "id": "d580a871-33f7-4796-8d8d-8574a0609d14",
   "metadata": {},
   "source": [
    "### 10. Enviando E-mails"
   ]
  },
  {
   "cell_type": "markdown",
   "id": "69fa627d-7bf7-4ac3-bfd4-4d1407a7c748",
   "metadata": {},
   "source": [
    "Para enviar e-mails com Flask, basta seguir o roteiro abaixo."
   ]
  },
  {
   "cell_type": "markdown",
   "id": "136ca35f-6b32-4c9a-9dd8-7b8ebe3ea502",
   "metadata": {},
   "source": [
    "**1.Acesse o arquivo `config.py' e defina as variáveis de cnfiguração de e-mail**\n",
    "\n",
    "```\n",
    "class Config(object):\n",
    "    SECRET_KEY=<my-secret-key>\n",
    "    MAIL_SERVER='smtp.gmail.com'\n",
    "    MAIL_PORT=587\n",
    "    MAIL_SSL=False\n",
    "    MAIL_TLS=True\n",
    "    MAIL_USERNAME='fredcsilva@gmail.com'\n",
    "    MAIL_PASSWORD= os.environ.get('<MINHA-VARIAVEL-DE-SENHA-AQUI>')\n",
    "```"
   ]
  },
  {
   "cell_type": "markdown",
   "id": "febc73bd-b1a9-4ffb-93b9-e8e4d91e75f4",
   "metadata": {},
   "source": [
    "**2. Instale o `flask_mail`**"
   ]
  },
  {
   "cell_type": "markdown",
   "id": "e0b27a38-e00f-4bc2-a8c6-f4a7708cbcc6",
   "metadata": {},
   "source": [
    "> `$ pip install Flask-Mail`\n",
    "\n",
    "- Para mais informações, acessar: https://pythonhosted.org/Flask-Mail/ ou https://pypi.org/project/Flask-Mail/"
   ]
  },
  {
   "cell_type": "markdown",
   "id": "44d18e22-c3da-485d-9884-3c136a097395",
   "metadata": {},
   "source": [
    "**3. No controlador principal `app.py` importe as classes necessárias**"
   ]
  },
  {
   "cell_type": "markdown",
   "id": "b14f06ca-0be1-4eec-b5d1-42adc1692834",
   "metadata": {},
   "source": [
    "> `from flask_mail import Mail, Message`"
   ]
  },
  {
   "cell_type": "markdown",
   "id": "23286513-766b-4204-a754-efb27a16d4b6",
   "metadata": {},
   "source": [
    "**4. Instancie a aplicação na classe Mail na classe principal `app.py`**"
   ]
  },
  {
   "cell_type": "markdown",
   "id": "805544b2-c0c3-4aea-b4bd-bf638c5998e2",
   "metadata": {},
   "source": [
    "> `mail = Mail(app)`"
   ]
  },
  {
   "cell_type": "markdown",
   "id": "b0407316-a4d4-4e57-83e9-e8071b8099a6",
   "metadata": {},
   "source": [
    "**5. Enviando um E-mail**"
   ]
  },
  {
   "cell_type": "markdown",
   "id": "6e0ff207-4e87-4896-841f-ecb817723092",
   "metadata": {},
   "source": [
    "```\n",
    "@app.route(\"/send_mail\")\n",
    "def send_mail(username):\n",
    "   msg = Message('Hello', sender = 'yourId@gmail.com', recipients = ['someone1@gmail.com'])\n",
    "   msg.html = render_template('sent.html', username=username)\n",
    "   mail.send(msg)\n",
    "   \n",
    "   success_message = 'E-mail enviado com sucesso'\n",
    "   flash(success_message)\n",
    "      \n",
    "   return render_template('create.html', form=create_form)\n",
    "   \n",
    "=========== Página HTML =============\n",
    "...\n",
    "<body>\n",
    "    <h3>Hello {{ username }} message sent from Flask-Mail</h3>\n",
    "</body>\n",
    "...\n",
    "\n",
    "```"
   ]
  },
  {
   "cell_type": "markdown",
   "id": "d5ce93dc-22c3-4345-90f5-f7029ee38288",
   "metadata": {},
   "source": [
    "### 11. Enviando E-mails em segundo plano"
   ]
  },
  {
   "cell_type": "markdown",
   "id": "4b655728-8c6c-47be-8f08-e2ad9fa763ca",
   "metadata": {},
   "source": [
    "* **1. Importe Threading**\n",
    "\n",
    "> `import threading`\n"
   ]
  },
  {
   "cell_type": "markdown",
   "id": "9e46df22-723e-4a83-b3f7-348c7e453acf",
   "metadata": {},
   "source": [
    "* **2. Envie o e-mail**"
   ]
  },
  {
   "cell_type": "markdown",
   "id": "3500ba30-7645-40ab-9265-f9eb398d6d78",
   "metadata": {},
   "source": [
    "```\n",
    "...\n",
    "import threading\n",
    "from flask import copy_current_request_context\n",
    "...\n",
    "\n",
    "def send_mail(usermail, username):\n",
    "   msg = Message('Hello', sender = 'yourId@gmail.com', recipients = [ usermail ])\n",
    "   msg.html = render_template('sent.html', username=username)\n",
    "   mail.send(msg)\n",
    "   \n",
    "   ...\n",
    "@app.route(\"/create\", methods=['GET', 'POST'])\n",
    "def create():\n",
    "    ...\n",
    "\n",
    "    # Obtenha uma cópia do contexto da requisição\n",
    "    @copy_current_request_context\n",
    "    def send_message(email, username)\n",
    "        send_mail(email, username)\n",
    "    \n",
    "    sender = threading.Thread(name='mail_sender', target='send_message', args=(user.email, user.name))\n",
    "    sender.start()\n",
    "\n",
    "```\n",
    "   \n",
    "\n",
    "**OBS**: target é a função criada para enviar o e-mail"
   ]
  },
  {
   "cell_type": "markdown",
   "id": "a01b320c-0dac-4b45-86c0-3b2db8aa35ed",
   "metadata": {},
   "source": [
    "**OBS:** Exemplo de envio de e-mail: https://pythonbasics.org/flask-mail/"
   ]
  },
  {
   "cell_type": "code",
   "execution_count": null,
   "id": "01b1bdf7-8d17-4f04-80c5-60ed0197d6ef",
   "metadata": {},
   "outputs": [],
   "source": []
  }
 ],
 "metadata": {
  "kernelspec": {
   "display_name": "Python 3 (ipykernel)",
   "language": "python",
   "name": "python3"
  },
  "language_info": {
   "codemirror_mode": {
    "name": "ipython",
    "version": 3
   },
   "file_extension": ".py",
   "mimetype": "text/x-python",
   "name": "python",
   "nbconvert_exporter": "python",
   "pygments_lexer": "ipython3",
   "version": "3.8.10"
  }
 },
 "nbformat": 4,
 "nbformat_minor": 5
}
