{
 "cells": [
  {
   "cell_type": "markdown",
   "id": "cb3319cd-ec55-42ae-9aa4-6f71107ab930",
   "metadata": {},
   "source": [
    "# Configurações Possíveis no Flask"
   ]
  },
  {
   "cell_type": "markdown",
   "id": "7c5c91fc-2fdd-4da5-8f04-4b4307b3d1c5",
   "metadata": {},
   "source": [
    "| [Anterior](8.Templates-parte2.ipynb)| [Próximo](10.Formularios.ipynb)     | \n",
    "| :------------- | :----------:|"
   ]
  },
  {
   "cell_type": "markdown",
   "id": "325bf06a-2ea8-4d94-808b-05adbb069429",
   "metadata": {},
   "source": [
    "### 1. Depurando o código no Pycharm"
   ]
  },
  {
   "cell_type": "markdown",
   "id": "ad2f76a0-c12a-4443-8b01-081ed242c642",
   "metadata": {},
   "source": [
    "- E como obter o valor dos campos do formulário?\n",
    "\t- No \"pycharm\", faça um debug e identifique a variável que armazena essas informações.\n",
    "\t- É possível observar que \"request.form\" é um array que armazena os valores dos campos do formulário HTML.\n",
    "\t- E,por exemplo, o comando \"request.form['name']\" obtém o valor existente no campo nome do formulário.\n",
    "\t- E, se for necessário transformar os valores do formulário em \"json\", faça o seguinte:\n",
    "\t\t1. from json import dumps\n",
    "\t\t2. return dumps(request.form)\n",
    "\t\t\n",
    "- Como depurar uma aplicação com Pycharm?\n",
    "\t- Clique na linha desejada (deixe-a marcada com o ponto vermelho nela)\n",
    "\t- Clique no código + botão direito + debug ou \"Run Debug...\" ou \"Shift + F9\"\n",
    "\t- Execute as ações no código HTML\n",
    "\t- Volte para o Pycharm e observe a depuração:\n",
    "\t\t1. Passeo o mouse sobre a variável desejada (Ex: request) que irá aparecer um menu suspenso\n",
    "\t\t2. Clique no menu e observe todas as variáveis e valores disponíveis para a variável escolhida\n",
    "\n"
   ]
  },
  {
   "cell_type": "markdown",
   "id": "ba848dcd-3b5b-4757-867c-1a893be6c4fa",
   "metadata": {},
   "source": [
    "### 2. Arquivos Estáticos"
   ]
  },
  {
   "cell_type": "markdown",
   "id": "e8ccbdd2-ba34-4fc2-ad35-5f403406f1c0",
   "metadata": {},
   "source": [
    "Por padrão, o Flask utiliza o diretório \"/static\" para guardar arquivos css, javascript e imagens. <br/>\n",
    "> static/css <br/>\n",
    "> static/img <br/>\n",
    "> static/js <br/>\n",
    "\n",
    "Também é possível armazenar páginas HTMLs estáticas e chamá-la diretamente, sem a necessidade de criar rotas específicas.\n",
    "> Crie o arquivo 'static_page.html' dentro do diretório '/static'. <br/>\n",
    "> Acesse \"http://127.0.0.1:5000/static/static_page.html\" para visualizar o conteúdo do arquivo criado."
   ]
  },
  {
   "cell_type": "markdown",
   "id": "598d9887-c168-4196-ad8d-48ad55973d70",
   "metadata": {},
   "source": [
    "- Se for necessário alterar o diretório dos arquivos estáticos:<br/>\n",
    "> `app = Flask(name, static_folder='public')`\n",
    "\n",
    "Para este caso, o diretório \"public\" precisa estar criado."
   ]
  },
  {
   "cell_type": "markdown",
   "id": "bb7eb6a2-6ad7-47f2-911d-ce504b37c833",
   "metadata": {},
   "source": [
    "- Carregando arquivos locais (imagens, css ou javascript)"
   ]
  },
  {
   "cell_type": "markdown",
   "id": "eb252a4e-1223-447b-bc1e-43770e945129",
   "metadata": {},
   "source": [
    "> < script type=\"text/javascript\" src=\"{{ url_for('static', filename='js/jquery.js') }}\" />"
   ]
  },
  {
   "cell_type": "markdown",
   "id": "fc498434-ca94-439c-843f-5dcfb246b239",
   "metadata": {},
   "source": [
    "> < img src=\"{{ url_for('static', filename='img/home.png') }}\" />"
   ]
  },
  {
   "cell_type": "markdown",
   "id": "bedd8600-542c-47d5-92f0-e62f2065a130",
   "metadata": {},
   "source": [
    "### 3. Macros (Poderia fazer com `Macros` algo semelhante a `Widgets`?)"
   ]
  },
  {
   "cell_type": "markdown",
   "id": "22942620-c26a-4932-bf3e-12c75a916c4a",
   "metadata": {},
   "source": [
    "Quando se deseja reduzir duplicação de código:"
   ]
  },
  {
   "cell_type": "markdown",
   "id": "17438f96-bc03-4119-960b-624c0099852f",
   "metadata": {},
   "source": [
    "> `_macro.html`\n",
    "\n",
    "```\n",
    "{% macro show_list(value) %}\n",
    "    <h1> {{ value }} </h1>\n",
    "    <h2> {{ value }} </h2>\n",
    "    <h3> {{ value }} </h3>\n",
    "{% endmacro %}\n",
    "```"
   ]
  },
  {
   "cell_type": "markdown",
   "id": "6b02e59e-472e-4b77-bbb1-de24f9e3200c",
   "metadata": {},
   "source": [
    "> `index.html`\n",
    "\n",
    "```\n",
    "{% extends 'base/base.html' %}\n",
    "{% block title %} {{ title }} {% endblock %}\n",
    "\n",
    "{% block content %} \n",
    "    {% from \"_macro.html\" import show_list %}\n",
    "    {{ show_list( title ) }} \n",
    "{% endblock %}\n",
    "```"
   ]
  },
  {
   "cell_type": "markdown",
   "id": "4949886a-284e-4cb6-ab82-b1a77d136118",
   "metadata": {},
   "source": [
    "### 4. Error 404"
   ]
  },
  {
   "cell_type": "markdown",
   "id": "9d4cd02f-5534-4d66-bc32-f410ad106ae2",
   "metadata": {},
   "source": [
    "Uma forma de tratar as chamadas a URLs não existentes."
   ]
  },
  {
   "cell_type": "markdown",
   "id": "b7536900-b1a8-4864-ac3b-b63e5f04e3cc",
   "metadata": {},
   "source": [
    "1. Para começar, o decorator utilizado será o `errohandler` na página principal (controller) da aplicação `app.py`"
   ]
  },
  {
   "cell_type": "markdown",
   "id": "e3e0ff5a-4391-4c3c-9b9f-3f847cfea985",
   "metadata": {},
   "source": [
    "```\n",
    "from flask import render_template\n",
    "\n",
    "@app.errorhandler(403)\n",
    "@app.errorhandler(404)\n",
    "def page_not_founde(e):\n",
    "    return render_template('404.html')\n",
    "```    "
   ]
  },
  {
   "cell_type": "markdown",
   "id": "12f3599f-d8a2-4542-98df-c17342eabb8d",
   "metadata": {},
   "source": [
    "2. Crie a página 404.html\n",
    "\n",
    "```\n",
    "<html>\n",
    "    ...\n",
    "    <body>\n",
    "        <p class=\"message_error\">Desculpem-nos pelos transtornos! Esta página não foi encontrada.</p>\n",
    "    </body>\n",
    "    ...\n",
    "</html>\n",
    "```"
   ]
  },
  {
   "cell_type": "markdown",
   "id": "74ed8f87-b206-44db-9402-ec48bacd25e6",
   "metadata": {},
   "source": [
    "### 5. `Before` e `After` requests (`Decorators`)"
   ]
  },
  {
   "cell_type": "markdown",
   "id": "31079949-ea6d-4576-949d-8859e3f65601",
   "metadata": {},
   "source": [
    "Um exemplo de uma situação comum desse tipo de `Decorator` é quando necessitamos realizar uma consulta a uma banco de dados. Previamente é necessário saber se uma conexão com o banco de dados já foi criada."
   ]
  },
  {
   "cell_type": "markdown",
   "id": "ca67788e-4544-4cfe-b374-cbf5689e226d",
   "metadata": {},
   "source": [
    "- **Decorador `before_request`**\n",
    "\n",
    "```\n",
    "Realiza uma tarefa antes de iniciar a requisição.\n",
    "\n",
    "from flask import request\n",
    "\n",
    "@app.before_request()\n",
    "def before_request():\n",
    "    if 'username' not in session:\n",
    "        print 'Você está na página {}'.format(request.endpoint)\n",
    "        print 'O usuário não fez login.'\n",
    "```"
   ]
  },
  {
   "cell_type": "markdown",
   "id": "c45a878a-fbe7-4984-a507-fe16e36896ed",
   "metadata": {},
   "source": [
    "- **Decorador `after_request`**\n",
    "\n",
    "```\n",
    "Realiza uma tarefa logo após de uma requisição.\n",
    "Sempre deverá retornar o response do parâmetro da função.\n",
    "Um exemploque poder ser útil é o de finalizar uma conexão com o banco de dados após realizar uma consulta.\n",
    "\n",
    "from flask import request\n",
    "\n",
    "@app.after_request()\n",
    "def after_request(response):\n",
    "   print \"Do anything\" \n",
    "   return response\n",
    "```"
   ]
  },
  {
   "cell_type": "markdown",
   "id": "77d30781-e937-4d30-b8f5-4084ec45c1c6",
   "metadata": {},
   "source": [
    "### 6. Global"
   ]
  },
  {
   "cell_type": "markdown",
   "id": "23c21397-8ad6-456a-92b9-5e8decd02d66",
   "metadata": {},
   "source": [
    "Variáveis que serão compartilhadas por toda a aplicação. <br/>\n",
    "Variáveis globais ainda não são thread-safe porque ainda não há proteção contra a maioria das condições de corrida. <br/>\n",
    "Para trabalhar com variáveis globais..."
   ]
  },
  {
   "cell_type": "markdown",
   "id": "9088cbb8-d78e-452d-b417-725240725863",
   "metadata": {},
   "source": [
    "* **1. Importe a biblioteca**\n",
    "> `from flask import g` "
   ]
  },
  {
   "cell_type": "markdown",
   "id": "8be94035-7dcd-400b-9da0-c9e917fe3ec1",
   "metadata": {},
   "source": [
    "* **2. Crie uma variável global**"
   ]
  },
  {
   "cell_type": "markdown",
   "id": "acc4b679-b7f8-4fff-a6d1-713e46be93a6",
   "metadata": {},
   "source": [
    "```\n",
    "@app.before_request()\n",
    "def before_request():\n",
    "    g.id_number = 1\n",
    "```"
   ]
  },
  {
   "cell_type": "markdown",
   "id": "dbe2a1d5-cc02-4a7a-9794-28b5d28c370b",
   "metadata": {},
   "source": [
    "* **3. Obtenha o valor de uma variável global**"
   ]
  },
  {
   "cell_type": "markdown",
   "id": "874764af-246a-4d70-920c-dd9bedfc1af1",
   "metadata": {},
   "source": [
    "```\n",
    "@app.route(\"/index\")\n",
    "def index():\n",
    "    print g.id_number\n",
    "    ...\n",
    "    return ...\n",
    "```"
   ]
  },
  {
   "cell_type": "markdown",
   "id": "6712ebcc-6dcf-4240-ac60-7ce452e04ac8",
   "metadata": {},
   "source": [
    "### 7. Config"
   ]
  },
  {
   "cell_type": "markdown",
   "id": "4a93aec3-aed1-41c0-9a83-7323ce8df14b",
   "metadata": {},
   "source": [
    "* **1. Criando arquivos de configuração para ambientes diferente**"
   ]
  },
  {
   "cell_type": "markdown",
   "id": "f9b674ba-91f0-463c-a4e9-80c3329e8c0b",
   "metadata": {},
   "source": [
    "1. Crie o arquivo `config.py`\n",
    "2. Crie a classe Config:\n",
    "\n",
    "```\n",
    "class Config(object)\n",
    "    SECRET_KEY = 'jshqw7723uy32iqwk0912'\n",
    "\n",
    "class DevelopmentConfig(Config):\n",
    "    DEBUG=True\n",
    "    PORT=8000\n",
    "    \n",
    "class ProductionConfig(Config):\n",
    "    DEBUG=False \n",
    "    PORT=8181\n",
    "```"
   ]
  },
  {
   "cell_type": "markdown",
   "id": "5f7e84ce-8042-4f01-b403-24439fdd765e",
   "metadata": {},
   "source": [
    "* **3. Import as configurações no seu controlador principal `app.py`**\n",
    "\n",
    "```\n",
    "from config import DevelopmentConfig\n",
    "...\n",
    "\n",
    "app = Flask(__ name __)\n",
    "app.config.from_object(DevelopmentConfig)\n",
    "...\n",
    "\n",
    "if __ name __ == '__ main __':\n",
    "    app.run(port=config.PORT)\n",
    "```"
   ]
  },
  {
   "cell_type": "code",
   "execution_count": null,
   "id": "f298184b-ab77-4e7b-b7cf-4d95dfe9f752",
   "metadata": {},
   "outputs": [],
   "source": []
  }
 ],
 "metadata": {
  "kernelspec": {
   "display_name": "Python 3 (ipykernel)",
   "language": "python",
   "name": "python3"
  },
  "language_info": {
   "codemirror_mode": {
    "name": "ipython",
    "version": 3
   },
   "file_extension": ".py",
   "mimetype": "text/x-python",
   "name": "python",
   "nbconvert_exporter": "python",
   "pygments_lexer": "ipython3",
   "version": "3.8.10"
  }
 },
 "nbformat": 4,
 "nbformat_minor": 5
}
