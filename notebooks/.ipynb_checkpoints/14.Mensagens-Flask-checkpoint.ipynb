{
 "cells": [
  {
   "cell_type": "markdown",
   "id": "e6d1ef17-56fd-4806-a095-45c5f6173909",
   "metadata": {},
   "source": [
    "# Apresentando Mensagens com o Flask"
   ]
  },
  {
   "cell_type": "markdown",
   "id": "71d27511-3c54-464a-b7fe-32254f776c31",
   "metadata": {},
   "source": [
    "Para isso, basta implementar de acordo com o documento: https://flask.palletsprojects.com/en/2.0.x/patterns/flashing/"
   ]
  }
 ],
 "metadata": {
  "kernelspec": {
   "display_name": "Python 3 (ipykernel)",
   "language": "python",
   "name": "python3"
  },
  "language_info": {
   "codemirror_mode": {
    "name": "ipython",
    "version": 3
   },
   "file_extension": ".py",
   "mimetype": "text/x-python",
   "name": "python",
   "nbconvert_exporter": "python",
   "pygments_lexer": "ipython3",
   "version": "3.8.10"
  }
 },
 "nbformat": 4,
 "nbformat_minor": 5
}
