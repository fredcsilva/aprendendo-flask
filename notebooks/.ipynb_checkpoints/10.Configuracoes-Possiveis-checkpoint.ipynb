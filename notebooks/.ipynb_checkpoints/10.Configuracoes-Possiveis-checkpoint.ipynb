{
 "cells": [
  {
   "cell_type": "markdown",
   "id": "cb3319cd-ec55-42ae-9aa4-6f71107ab930",
   "metadata": {},
   "source": [
    "# Configurações Possíveis no Flask"
   ]
  },
  {
   "cell_type": "markdown",
   "id": "325bf06a-2ea8-4d94-808b-05adbb069429",
   "metadata": {},
   "source": [
    "### 1. Parâmetros de Execução: `app.run()`"
   ]
  },
  {
   "cell_type": "markdown",
   "id": "64c953c4-e28f-44f3-9547-a7be04995a42",
   "metadata": {},
   "source": [
    "> `app.run(debug=True, port=8081, host='127.0.0.1')`"
   ]
  },
  {
   "cell_type": "markdown",
   "id": "ad2f76a0-c12a-4443-8b01-081ed242c642",
   "metadata": {},
   "source": [
    "Vídeo 5: # Trabalhando com arquivos estáticos\n",
    "- Crie o diretório \"/static\"\n",
    "- Acrescente o parâmetro 'static_folder'\n",
    "\tapp = Flask(__name__, static_folder=\"static\")\n",
    "\t\n",
    "\tOBS: \"static_folder\": Indica o nome do diretório que irá guardar os arquivos estáticos, pode ser \"public\", por exemplo\n",
    "\t\n",
    "- Cria o arquivo 'static_page.html' dentro do diretório '/static'\n",
    "- Execute o servidor\n",
    "- Acesse \"http://127.0.0.1:5000/static/static_page.html\" para visualizar o formulário criado\n",
    "- Não precisa criar nenhuma rota para que funcione\n",
    "\n",
    "Vídeo 6: # Métodos HTTP\n",
    "\n",
    "- Um exemplo pode ser construído com uma página html básica e um form:\n",
    "\t<form action=\"http://127.0.0.1:5000/add\" method=\"post\">\n",
    "\t\t...\n",
    "\t</form>\n",
    "\t\n",
    "- Cria-se uma rota conforme foi escrito no 'action' e para os métodos desejados:\n",
    "\t@app.route(\"/add\", methods=[\"GET\", \"POST\"])\n",
    "\tdef add():\n",
    "\t\treturn \"Método Add\"\n",
    "\n",
    "- Execute a sua aplicação e observe que a rota \"/add\" vai funcionar tanto para o método GET como para o método POST\n",
    "\n",
    "- E como saber se a chamada é GET ou POST?\n",
    "\tImport o pacote request: from flask import request\n",
    "\t\n",
    "\t@app.route(\"/add\", methods=[\"GET\", \"POST\"])\n",
    "\tdef add():\n",
    "\t\tmetodo = \"\"\n",
    "\t\tif request.method == \"GET\":\n",
    "\t\t\tmetodo = \"GET\"\n",
    "\t\telif request.method == \"POST\":\n",
    "\t\t\tmetodo = \"POST\"\n",
    "\t\telse:\n",
    "\t\t\tmetodo = \"NO METHOD\"\n",
    "\t\treturn \"Método Add {}\".format(metodo)\n",
    "\t\t\n",
    "- E como obter o valor dos campos do formulário?\n",
    "\t- No \"pycharm\", faça um debug e identifique a variável que armazena essas informações.\n",
    "\t- É possível observar que \"request.form\" é um array que armazena os valores dos campos do formulário HTML.\n",
    "\t- E,por exemplo, o comando \"request.form['name']\" obtém o valor existente no campo nome do formulário.\n",
    "\t- E, se for necessário transformar os valores do formulário em \"json\", faça o seguinte:\n",
    "\t\t1. from json import dumps\n",
    "\t\t2. return dumps(request.form)\n",
    "\t\t\n",
    "- Como depurar uma aplicação com Pycharm?\n",
    "\t- Clique na linha desejada (deixe-a marcada com o ponto vermelho nela)\n",
    "\t- Clique no código + botão direito + debug ou \"Run Debug...\" ou \"Shift + F9\"\n",
    "\t- Execute as ações no código HTML\n",
    "\t- Volte para o Pycharm e observe a depuração:\n",
    "\t\t1. Passeo o mouse sobre a variável desejada (Ex: request) que irá aparecer um menu suspenso\n",
    "\t\t2. Clique no menu e observe todas as variáveis e valores disponíveis para a variável escolhida\n",
    "\n"
   ]
  },
  {
   "cell_type": "markdown",
   "id": "a6201016-8c25-4f35-ba93-90487112f761",
   "metadata": {},
   "source": [
    "### 2. Parâmetros na instanciação do `Flask(__name__, ...)`"
   ]
  },
  {
   "cell_type": "markdown",
   "id": "b16046ea-d2e5-41d4-9cde-f467299b83e4",
   "metadata": {},
   "source": [
    "1. Desde que você tenha criado o diretório `public` em seu projeto, é possível alterar o `diretório padrão para arquivos estáticos do flask` acrescentando o parâmetro abaixo:\n",
    "\n",
    "> app = Flask(__name__, static_folder='public')\n",
    "\n",
    "**OBS:** O diretório padrão do Flask para os arquivos estáticos é o `/static`"
   ]
  },
  {
   "cell_type": "markdown",
   "id": "89320a19-44ac-48a4-8245-f0ad63593af1",
   "metadata": {},
   "source": [
    "2. Desde que você tenha criado o diretório `novos_template` em seu projeto, é possível alterar o `diretório padrão para templates do flask` acrescentando o parâmetro abaixo:\n",
    "\n",
    "> app = Flask(__name__, templates_folder='novos_template')\n",
    "\n",
    "**OBS:** O diretório padrão do Flask para as páginas HTML é o `/templates`"
   ]
  },
  {
   "cell_type": "markdown",
   "id": "ba848dcd-3b5b-4757-867c-1a893be6c4fa",
   "metadata": {},
   "source": []
  }
 ],
 "metadata": {
  "kernelspec": {
   "display_name": "Python 3 (ipykernel)",
   "language": "python",
   "name": "python3"
  },
  "language_info": {
   "codemirror_mode": {
    "name": "ipython",
    "version": 3
   },
   "file_extension": ".py",
   "mimetype": "text/x-python",
   "name": "python",
   "nbconvert_exporter": "python",
   "pygments_lexer": "ipython3",
   "version": "3.8.10"
  }
 },
 "nbformat": 4,
 "nbformat_minor": 5
}
