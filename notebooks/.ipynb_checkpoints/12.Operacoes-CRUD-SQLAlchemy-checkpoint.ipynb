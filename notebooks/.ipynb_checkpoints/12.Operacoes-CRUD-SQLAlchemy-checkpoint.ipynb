{
 "cells": [
  {
   "cell_type": "markdown",
   "id": "84f89e9a-11e0-459c-ba5e-90f87cfbd1ee",
   "metadata": {},
   "source": [
    "# Operações CRUD - SQLAlchemy"
   ]
  },
  {
   "cell_type": "markdown",
   "id": "566aea70-c303-4f53-8d98-1a6ee4806cca",
   "metadata": {},
   "source": [
    "### 1. Preparando o ambiente (ou no controller inicial `app.py` ou no arquivo `__init__.py` principal)"
   ]
  },
  {
   "cell_type": "markdown",
   "id": "104e703c-1f25-43b2-a3e9-07209589d123",
   "metadata": {},
   "source": [
    "* **Importando as bibliotecas**\n",
    "\n",
    "```\n",
    "from flask_sqlalchemy import SQLAlchemy # (Import principal do SQLAlchemy)\n",
    "import config # Import do config\n",
    "```"
   ]
  },
  {
   "cell_type": "markdown",
   "id": "bcdbdaed-010a-45b1-a2f9-0ba51e83f758",
   "metadata": {},
   "source": [
    "* **Configurando o banco de dados**\n",
    "```\n",
    "app.config['SQLALCHEMY_DATABASE_URI'] = 'sqlite:///posts_twitter.db' # (Banco de Dados SQLite)\n",
    "db = SQLAlchemy(app) # (Criando uma instância padrão db)\n",
    "```"
   ]
  },
  {
   "cell_type": "markdown",
   "id": "d0aac4b8-29cc-4a43-bf95-35dc7d9b7011",
   "metadata": {},
   "source": [
    "### 2. Comandos Migrate (Criando o banco de dados)"
   ]
  },
  {
   "cell_type": "markdown",
   "id": "512057a2-5b6a-4c20-8ba5-cb4b675b3e86",
   "metadata": {},
   "source": [
    "Para que o banco de dados seja criado \"automaticamente\" é preciso utilizar uma biblioteca que executa essas operações para nós. "
   ]
  },
  {
   "cell_type": "markdown",
   "id": "5492e146-175c-4fbb-9982-0948aac1ae57",
   "metadata": {},
   "source": [
    "### 3. Operação CREATE"
   ]
  },
  {
   "cell_type": "markdown",
   "id": "96f49bb8-ea84-463f-a3db-4c45dca2b7ad",
   "metadata": {},
   "source": [
    "1. Importe as tabelas na sua classe (preferencialmente no `__ init __.py` <br/>\n",
    "> **from app.models import tables**\n",
    "2. Instancie um objeto python que representa uma tabela no banco de dados <br/>\n",
    "> **user = User(...)**\n",
    "3. Crie uma sessão <br/>\n",
    "> **db.session.add(user)**\n",
    "4. Commite uma sessão  <br/>\n",
    "> **db.session.commit()**\n",
    "---\n",
    "\n",
    "**Exemplificando:**\n",
    "```\n",
    "from flask import render_template, redirect, request, url_for\n",
    "\n",
    "@app.route(\"/\")\n",
    "def index():\n",
    "    allUsers = User.query.all()\n",
    "    return render_template('index.html', users=allUsers)\n",
    "\n",
    "@app.route(\"/add\", methods=['POST', 'GET'])\n",
    "def addUser():\n",
    "    if request.method == 'POST':\n",
    "        user = User(request.form['name'], request.form['email'])\n",
    "        db.session.add(user)\n",
    "        db.session.commit()\n",
    "        return redirect(url_for('index'))\n",
    "     return render_template('add.html')   \n",
    "```"
   ]
  },
  {
   "cell_type": "markdown",
   "id": "487db716-4ba3-4501-853b-2f07c852d580",
   "metadata": {},
   "source": [
    "### 2. Operação READ"
   ]
  },
  {
   "cell_type": "markdown",
   "id": "7ecd5ab0-5ba2-403d-a55e-2fabeec47add",
   "metadata": {},
   "source": [
    "> result_query = User.query.filter_by(username=\"fred\").all()<br/>\n",
    "ou <br/>\n",
    "> allUsers = User.query.all()"
   ]
  },
  {
   "cell_type": "markdown",
   "id": "df8a5a7f-7001-448e-89f3-f82a235692ba",
   "metadata": {},
   "source": [
    "### 3. Operação UPDATE"
   ]
  },
  {
   "cell_type": "markdown",
   "id": "b8fab897-db36-420f-878c-04c07d16dcea",
   "metadata": {},
   "source": [
    "> ```\n",
    "result_query = User.query.filter_by(username=\"fred\").first()\n",
    "result_query.username = \"Um nome alterado\"\n",
    "db.session.add(result_query)\n",
    "db.session.commit()\n",
    "> \n",
    "* **Exemplo de código em HTML**\n",
    "```\n",
    "...\n",
    "<form action=\"/edit/{{ user.id }}\" method=\"POST\">\n",
    "    ...\n",
    "        <--Aqui ficam os campos do formulário-->\n",
    "    ...\n",
    "    <button type=\"submit\">Enviar</button>\n",
    "</form>\n",
    "...\n",
    "```\n",
    "* **Exemplo de código em Flask**\n",
    "```\n",
    "@app.route(\"/edit/<int:idUser>\", methods=['POST', 'GET'])\n",
    "def editUser(idUser):\n",
    "    user = User.query.get(idUser)\n",
    "    if user & request.method == 'POST':        \n",
    "        user.username = request.form['name']\n",
    "        user.email = request.form['email']    \n",
    "        db.session.commit()\n",
    "        return redirect(url_for('index'))\n",
    "     return render_template('edit.html') \n",
    "```"
   ]
  },
  {
   "cell_type": "markdown",
   "id": "c05b6903-6a7d-4988-862e-eeacb1b78df4",
   "metadata": {},
   "source": [
    "### 4. Operação DELETE"
   ]
  },
  {
   "cell_type": "markdown",
   "id": "bd62f410-6afa-48e6-9dd9-0344060ac333",
   "metadata": {},
   "source": [
    "> ```\n",
    "idUser = 10\n",
    "result_query = User.query.get(idUser)\n",
    "db.session.delete(result_query)\n",
    "db.session.commit()\n",
    "```"
   ]
  }
 ],
 "metadata": {
  "kernelspec": {
   "display_name": "Python 3 (ipykernel)",
   "language": "python",
   "name": "python3"
  },
  "language_info": {
   "codemirror_mode": {
    "name": "ipython",
    "version": 3
   },
   "file_extension": ".py",
   "mimetype": "text/x-python",
   "name": "python",
   "nbconvert_exporter": "python",
   "pygments_lexer": "ipython3",
   "version": "3.8.10"
  }
 },
 "nbformat": 4,
 "nbformat_minor": 5
}
