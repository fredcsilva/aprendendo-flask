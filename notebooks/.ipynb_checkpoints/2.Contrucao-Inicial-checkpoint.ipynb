{
 "cells": [
  {
   "cell_type": "markdown",
   "id": "92c96824-e585-42e3-9323-d78d780c3892",
   "metadata": {},
   "source": [
    "# Primeiros Passos"
   ]
  },
  {
   "cell_type": "markdown",
   "id": "b41f2be1-760c-4e8b-943e-fce7c3ba7468",
   "metadata": {},
   "source": [
    "### 1. Exemplo Básico"
   ]
  },
  {
   "cell_type": "markdown",
   "id": "af419c7c-8ca2-4e32-b69a-fd2a088b22ac",
   "metadata": {},
   "source": [
    "- Crie o arquivo ```app.py```\n",
    "- Acrescente o código abaixo"
   ]
  },
  {
   "cell_type": "raw",
   "id": "c004fd4e-723a-4fab-b047-80cad5c67990",
   "metadata": {},
   "source": [
    "# importação principal\n",
    "from flask import Flask\n",
    "\n",
    "# Definindo o App\n",
    "app = Flask(__name__)\n",
    "\n",
    "# Criando uma rota... há duas maneiras de fazer isso: Decorator ou Por Função\n",
    "@app.route(\"/\")\n",
    "def index():\n",
    "    return \"Uma rota 'Index' inicial do Flask.\"\n",
    "\n",
    "# Verifica se a aplicação que está sendo executada é a principal\n",
    "if __name__ == '__main__':\n",
    "    app.run()"
   ]
  },
  {
   "cell_type": "raw",
   "id": "de0ecc3f-a7e9-4afc-abce-dc4b13fe6872",
   "metadata": {},
   "source": []
  }
 ],
 "metadata": {
  "kernelspec": {
   "display_name": "Python 3 (ipykernel)",
   "language": "python",
   "name": "python3"
  },
  "language_info": {
   "codemirror_mode": {
    "name": "ipython",
    "version": 3
   },
   "file_extension": ".py",
   "mimetype": "text/x-python",
   "name": "python",
   "nbconvert_exporter": "python",
   "pygments_lexer": "ipython3",
   "version": "3.8.10"
  }
 },
 "nbformat": 4,
 "nbformat_minor": 5
}
