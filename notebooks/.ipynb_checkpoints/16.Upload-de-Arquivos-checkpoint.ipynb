{
 "cells": [
  {
   "cell_type": "markdown",
   "id": "37357843-6349-47ad-b155-6581571367d1",
   "metadata": {},
   "source": [
    "# Upload de Arquivos"
   ]
  },
  {
   "cell_type": "markdown",
   "id": "85af3d70-5e9e-4da0-887f-f48dbca8b7bb",
   "metadata": {},
   "source": [
    "### 1. Upload"
   ]
  },
  {
   "cell_type": "markdown",
   "id": "ea723ddd-d1f9-4300-bbce-6bd9063124e6",
   "metadata": {},
   "source": [
    "* Criando uma variável que aponta para o diretório de Upload (arquivo controlador `app.py`)"
   ]
  },
  {
   "cell_type": "markdown",
   "id": "3c9c9d98-8379-4723-a2de-0f8fad5ad2a8",
   "metadata": {},
   "source": [
    "```\n",
    "import os\n",
    "\n",
    "# Crie um diretório chamado '/upload' para que o comando abaixo funcione\n",
    "UPLOAD_FOLDER = os.path.join(os.getcwd(), 'upload')\n",
    "\n",
    "@app.route(\"/\")\n",
    "def index():\n",
    "    return render_template('index.html')\n",
    "    \n",
    "if __name__ == '__main__':\n",
    "    app.run()\n",
    "```"
   ]
  },
  {
   "cell_type": "markdown",
   "id": "f3b53da3-39b5-4ed7-bc51-309ba59ecd6e",
   "metadata": {},
   "source": [
    "* Arquivo HTML `index.html`"
   ]
  },
  {
   "cell_type": "markdown",
   "id": "4c854b49-a467-4fef-a251-9e6911860b67",
   "metadata": {},
   "source": [
    "...<br/>\n",
    "< form action=\"/upload\" method=\"POST\" enctype=\"multipart/form-data\"> <br/>\n",
    ".....< input type=\"file\" name=\"imagem\" id=\"imagem\"><br/>\n",
    ".....< button type=\"submit\">Enviar</button><br/>\n",
    "< /form><br/>\n",
    "..."
   ]
  },
  {
   "cell_type": "markdown",
   "id": "5503ab33-f398-45c2-8e89-0ed9eb532786",
   "metadata": {},
   "source": [
    "* Acrescentando mais funções ao controlador principal `app.py`"
   ]
  },
  {
   "cell_type": "markdown",
   "id": "2cdf55ca-cb1f-4071-ab69-c4015883c2c8",
   "metadata": {
    "tags": []
   },
   "source": [
    "```\n",
    "1. Importe a biblioteca Werkzeug (Também permite salvar um arquivo que está em binário): \n",
    "    Link: https://pypi.org/project/Werkzeug/\n",
    "    Comando: $ pip install -U Werkzeug\n",
    "```\n",
    "---\n",
    "\n",
    "```...\n",
    "from werkzeug.utils import secure_filename\n",
    "...\n",
    "@app.route(\"/upload\")\n",
    "def upload():\n",
    "    file = request.files['imagem']\n",
    "    savePath = os.path.join(UPLOAD_FOLDER, secure_filename(file.filename))\n",
    "    file.save(savePath)\n",
    "    \n",
    "    return \"Upload realizado com sucesso!\"\n",
    "```"
   ]
  },
  {
   "cell_type": "code",
   "execution_count": null,
   "id": "acb77444-35cc-4f38-bb22-1b37b20692c3",
   "metadata": {},
   "outputs": [],
   "source": []
  }
 ],
 "metadata": {
  "kernelspec": {
   "display_name": "Python 3 (ipykernel)",
   "language": "python",
   "name": "python3"
  },
  "language_info": {
   "codemirror_mode": {
    "name": "ipython",
    "version": 3
   },
   "file_extension": ".py",
   "mimetype": "text/x-python",
   "name": "python",
   "nbconvert_exporter": "python",
   "pygments_lexer": "ipython3",
   "version": "3.8.10"
  }
 },
 "nbformat": 4,
 "nbformat_minor": 5
}
