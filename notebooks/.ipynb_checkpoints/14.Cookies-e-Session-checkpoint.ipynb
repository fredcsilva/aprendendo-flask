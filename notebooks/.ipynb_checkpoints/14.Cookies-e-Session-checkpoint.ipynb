{
 "cells": [
  {
   "cell_type": "markdown",
   "id": "d8dbf806-bdc6-4322-ba06-56c0cbacf1b8",
   "metadata": {},
   "source": [
    "# Cookies e Session"
   ]
  },
  {
   "cell_type": "markdown",
   "id": "f2a6466c-f4fc-441e-a911-d875b3f759e7",
   "metadata": {},
   "source": [
    "| [Anterior](13.Mensagens-Flask.ipynb)| [Próximo](15.Upload-de-Arquivos.ipynb)     | \n",
    "| :------------- | :----------:|"
   ]
  },
  {
   "cell_type": "markdown",
   "id": "308806ef-f4d0-46ef-aead-404f5975380d",
   "metadata": {},
   "source": [
    "As `Cookies` trabalham com objetos Response. <br/>\n",
    "Para trabalhar com `Cookies` é preciso importar `make_response`"
   ]
  },
  {
   "cell_type": "markdown",
   "id": "aaca00e2-58a0-4435-bf8c-5b0c2604ff65",
   "metadata": {},
   "source": [
    "### 1. Definindo um valor para o `cookie`"
   ]
  },
  {
   "cell_type": "markdown",
   "id": "fe7b63ef-26a1-4526-82c0-7fa001f4068f",
   "metadata": {},
   "source": [
    "* Página HTML index.html\n",
    "A página inicial é uma página HTML chamada `index.html` com um formulário que possui um campo de entrada de texto cujo nome é \"c\": <br/>\n",
    "< form action=\"/setCookie\"><br/>\n",
    "    ...<br/>\n",
    "    < input type=\"text\" name=\"c\" id=\"c\"><br/>\n",
    "    ...<br/>\n",
    "< /form><br/>\n",
    "\n",
    "----------------------------\n",
    "\n",
    "* Grava o cookie e redireciona para a página `setcookie.html` \n",
    "\n",
    "```\n",
    "from flask import make_response\n",
    "\n",
    "@app.route('/setCookie', methods=['POST'])\n",
    "def setCookie():\n",
    "    response = make_response(render_template('setcookie.html'))\n",
    "    if request.method == 'POST':\n",
    "        dados = request.form['c']\n",
    "        response.set_cookie(\"meucookie\", dados)\n",
    "    \n",
    "    return response\n",
    "```"
   ]
  },
  {
   "cell_type": "markdown",
   "id": "c6774c40-090a-4368-99fe-fc49f638a24f",
   "metadata": {},
   "source": [
    "### 2. Obtendo o valor do `cookie`"
   ]
  },
  {
   "cell_type": "markdown",
   "id": "c007a180-89b1-40b8-a8e1-5c85b4a78bba",
   "metadata": {},
   "source": [
    "- **Quando uma Cookie é encontrada:**\n",
    "```\n",
    "@app.route('/getCookie')\n",
    "def getCookie():\n",
    "    cookie_data = request.cookies.get('meucookie')\n",
    "    return \"Meu cookie: {0}\".format(cookie_data)\n",
    "```"
   ]
  },
  {
   "cell_type": "markdown",
   "id": "3a1e1876-43c5-46e7-ac5c-9a8b9129c15b",
   "metadata": {},
   "source": [
    "- **Quando uma Cookie NÃO é encontrada:**\n",
    "```\n",
    "@app.route('/getCookie')\n",
    "def getCookie():\n",
    "    # Se a cookie \"meucookie\" não existir, irá retornar o segundo parâmetro que é \"Undefined\"\n",
    "    cookie_data = request.cookies.get('meucookie', \"Undefined\") \n",
    "    return \"Meu cookie: {0}\".format(cookie_data)\n",
    "```"
   ]
  },
  {
   "cell_type": "markdown",
   "id": "ad0f6239-36c9-4789-bfa6-3727d8ee4274",
   "metadata": {},
   "source": [
    "### 3. Session"
   ]
  },
  {
   "cell_type": "markdown",
   "id": "2d7c5eb6-9ad5-4788-b062-d6c390d8ba38",
   "metadata": {},
   "source": [
    "As `Sessões` em Flask são `baseadas em Cookies`. <br/>\n",
    "O texto (id) gerado para uma `Sessão` é uma `codificação base64`. <br/>\n",
    "Sempre que for trabalhar com `Sessões` do Flask, é preciso ter o `SECRET_KEY`\n",
    "\n",
    "* **Obtendo e Gravando na `Session` do usuário**\n",
    "\n",
    "```\n",
    "from flask import session, render_template\n",
    "\n",
    "@app.route(\"/\")\n",
    "def index():\n",
    "    username = None\n",
    "    if 'username' in session:\n",
    "        username = session['username']\n",
    "    else:\n",
    "        session['username'] = request.form['username'] # ou: => session['username'] = request.form.username.data\n",
    "        \n",
    "    return render_template('start.html', username=username)\n",
    "```"
   ]
  },
  {
   "cell_type": "markdown",
   "id": "c50ea306-ec32-4ef4-b159-b0a540fbab93",
   "metadata": {},
   "source": [
    "* **Destruindo a `Session do usuário**\n",
    "\n",
    "```\n",
    "from flask import session, render_template, url_for\n",
    "\n",
    "@app.route(\"/logout\")\n",
    "def logout():    \n",
    "    if 'username' in session:\n",
    "        session.pop('username')    \n",
    "        \n",
    "    return render_template(url_for('login'))\n",
    "```"
   ]
  }
 ],
 "metadata": {
  "kernelspec": {
   "display_name": "Python 3 (ipykernel)",
   "language": "python",
   "name": "python3"
  },
  "language_info": {
   "codemirror_mode": {
    "name": "ipython",
    "version": 3
   },
   "file_extension": ".py",
   "mimetype": "text/x-python",
   "name": "python",
   "nbconvert_exporter": "python",
   "pygments_lexer": "ipython3",
   "version": "3.8.10"
  }
 },
 "nbformat": 4,
 "nbformat_minor": 5
}
