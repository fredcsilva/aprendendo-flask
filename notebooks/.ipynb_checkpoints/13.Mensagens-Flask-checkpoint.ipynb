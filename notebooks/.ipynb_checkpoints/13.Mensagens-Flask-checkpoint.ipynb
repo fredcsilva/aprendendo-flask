{
 "cells": [
  {
   "cell_type": "markdown",
   "id": "e6d1ef17-56fd-4806-a095-45c5f6173909",
   "metadata": {},
   "source": [
    "# Apresentando Mensagens com o Flask"
   ]
  },
  {
   "cell_type": "markdown",
   "id": "65b8126f-5b62-4ac3-9775-cab4865605aa",
   "metadata": {},
   "source": [
    "| [Anterior](12.Operacoes-de-Login.ipynb)| [Próximo](14.Cookies-e-Session.ipynb)     | \n",
    "| :------------- | :----------:|"
   ]
  },
  {
   "cell_type": "markdown",
   "id": "71d27511-3c54-464a-b7fe-32254f776c31",
   "metadata": {},
   "source": [
    "Para isso, basta implementar de acordo com o documento: https://flask.palletsprojects.com/en/2.0.x/patterns/flashing/"
   ]
  },
  {
   "cell_type": "markdown",
   "id": "4687c950-e359-47eb-aae8-1ed943b8b422",
   "metadata": {},
   "source": [
    "Apresenta mensagens padronizadas ao usuário."
   ]
  },
  {
   "cell_type": "markdown",
   "id": "efbbbba2-1f94-4b37-ad69-c22e60614f6a",
   "metadata": {},
   "source": [
    "### 1. Exemplo básico com Flash"
   ]
  },
  {
   "cell_type": "markdown",
   "id": "e373a66f-0ac2-4430-8e49-450a460ec1b1",
   "metadata": {},
   "source": [
    "```\n",
    "from flask import Flask, flash, redirect, render_template, request, url_for\n",
    "\n",
    "app = Flask(__name__)\n",
    "app.secret_key = b'_5#y2L\"F4Q8z\\n\\xec]/'\n",
    "\n",
    "@app.route('/login', methods=['GET', 'POST'])\n",
    "def login():\n",
    "    error_message = None\n",
    "    \n",
    "    if request.method == 'POST':\n",
    "        if request.form['username'] != 'admin' or \\\n",
    "                request.form['password'] != 'secret':\n",
    "            error_message = 'Invalid credentials'\n",
    "        else:\n",
    "            username = request.form.username.data\n",
    "            success_message = 'Usuário {} logado com sucesso!'.format(username)\n",
    "            flash(success_message)\n",
    "            \n",
    "            return redirect(url_for('index'))\n",
    "            \n",
    "    return render_template('login.html', error=error_message)\n",
    "```"
   ]
  },
  {
   "cell_type": "markdown",
   "id": "0dc373eb-32d7-44d4-ac54-cca97aefbbee",
   "metadata": {},
   "source": [
    "* Página HTML (Ex: base.html)\n",
    "\n",
    "```\n",
    "<!doctype html>\n",
    "<title>My Application</title>\n",
    "{% with messages = get_flashed_messages() %}\n",
    "  {% if messages %}\n",
    "    <ul class=flashes>\n",
    "    {% for message in messages %}\n",
    "      <li>{{ message }}</li>\n",
    "    {% endfor %}\n",
    "    </ul>\n",
    "  {% endif %}\n",
    "{% endwith %}\n",
    "{% block body %}{% endblock %}\n",
    "```"
   ]
  },
  {
   "cell_type": "code",
   "execution_count": null,
   "id": "71ca06e0-d412-4fe2-add3-5344afc6e269",
   "metadata": {},
   "outputs": [],
   "source": []
  }
 ],
 "metadata": {
  "kernelspec": {
   "display_name": "Python 3 (ipykernel)",
   "language": "python",
   "name": "python3"
  },
  "language_info": {
   "codemirror_mode": {
    "name": "ipython",
    "version": 3
   },
   "file_extension": ".py",
   "mimetype": "text/x-python",
   "name": "python",
   "nbconvert_exporter": "python",
   "pygments_lexer": "ipython3",
   "version": "3.8.10"
  }
 },
 "nbformat": 4,
 "nbformat_minor": 5
}
