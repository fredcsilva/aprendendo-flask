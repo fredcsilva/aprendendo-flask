{
 "cells": [
  {
   "cell_type": "markdown",
   "id": "17fbca59-9173-401a-b6f3-4838f6c80a73",
   "metadata": {},
   "source": [
    "# Aprendendo Flask"
   ]
  },
  {
   "cell_type": "markdown",
   "id": "224109d1-d3ff-46ea-9322-4c878988c403",
   "metadata": {},
   "source": [
    "### 1. Conceitos Básicos"
   ]
  },
  {
   "cell_type": "markdown",
   "id": "4277ae81-e342-41d2-bb03-c2633716cc90",
   "metadata": {},
   "source": [
    "- É um framework para aplicativos Web escrito em Python.\n",
    "- Flask é baseado no kit Werkzeug WSGI (We Server Gateway Interface) e Jinja2 (View) próprio para criar templates em Python.\n",
    "- Uma ferramenta para construção de Apis\n",
    "- Flask é uma microestrutura que mantém a simplicidade do núcleo da aplicação, porém, é bastante extensível através de módulos que podem ser agregados no decorrer do desenvolvimento. "
   ]
  },
  {
   "cell_type": "markdown",
   "id": "bf0df6f1-5344-4f20-9562-0210437bb3c1",
   "metadata": {},
   "source": [
    "### 2. Instalação"
   ]
  },
  {
   "cell_type": "markdown",
   "id": "47b54a2a-0c79-41b1-8087-65c2e7832a9f",
   "metadata": {},
   "source": [
    "Antes de começar, segue o link para mais informações: https://flask.palletsprojects.com/en/2.0.x/\n",
    "<br/>\n",
    "**Dica:** *Crie um ambiente virtual para instalar o Flask.*\n",
    "> `$ py -3 -m venv venv_flask`\n",
    "<br/>\n",
    "> `$ venv_flask\\Scripts\\activate`\n",
    "<br/>\n",
    "> `$ (venv_flask) pip install Flask`\n",
    "\n",
    "**OBS:** O Flask suporta Python 3.6 e mais recente. E o suporte assíncrono no Flask requer Python 3.7+ para contextvars.ContextVar."
   ]
  }
 ],
 "metadata": {
  "kernelspec": {
   "display_name": "Python 3 (ipykernel)",
   "language": "python",
   "name": "python3"
  },
  "language_info": {
   "codemirror_mode": {
    "name": "ipython",
    "version": 3
   },
   "file_extension": ".py",
   "mimetype": "text/x-python",
   "name": "python",
   "nbconvert_exporter": "python",
   "pygments_lexer": "ipython3",
   "version": "3.8.10"
  }
 },
 "nbformat": 4,
 "nbformat_minor": 5
}
