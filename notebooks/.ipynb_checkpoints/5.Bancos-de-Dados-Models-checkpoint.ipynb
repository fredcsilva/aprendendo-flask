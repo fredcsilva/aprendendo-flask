{
 "cells": [
  {
   "cell_type": "markdown",
   "id": "88715e0d-1975-4b5d-b113-4433192a3e83",
   "metadata": {},
   "source": [
    "### Models e Banco de Dados"
   ]
  },
  {
   "cell_type": "markdown",
   "id": "25412119-3e76-4a5f-84c3-b3a542ebc7ae",
   "metadata": {},
   "source": [
    "| [Anterior](4.Estrutura-Diretorios.ipynb)| [Próximo](6.Rotas-e-Paginas.ipynb)     | \n",
    "| :------------- | :----------:|"
   ]
  },
  {
   "cell_type": "markdown",
   "id": "81a794f1-e2ef-4655-89d4-3dd703600931",
   "metadata": {},
   "source": [
    "### 1. Exemplo \"Modelo\" simulando um twitter"
   ]
  },
  {
   "cell_type": "markdown",
   "id": "261e225e-1478-403d-8c38-c8be91611d83",
   "metadata": {},
   "source": [
    "![image info](./images/posts_twitter_model.png)"
   ]
  },
  {
   "cell_type": "markdown",
   "id": "5dbbffcc-82f8-46bb-8677-5d58b3d1e594",
   "metadata": {},
   "source": [
    "### 2. Flask e SQLAlchemy (ORM)"
   ]
  },
  {
   "cell_type": "markdown",
   "id": "39ead3ff-9da6-4248-ab4d-a75837da5913",
   "metadata": {},
   "source": [
    "Site: https://flask-sqlalchemy.palletsprojects.com/en/2.x/"
   ]
  },
  {
   "cell_type": "markdown",
   "id": "9e06d8da-d0a6-49b1-90d7-1e1ec9a7220c",
   "metadata": {},
   "source": [
    "* **Instalação** Saiba mais em [Flask-SQLAlchemy pip install](https://pypi.org/project/Flask-SQLAlchemy/)"
   ]
  },
  {
   "cell_type": "markdown",
   "id": "295e89ad-35bc-4d3a-b793-80757e33868a",
   "metadata": {},
   "source": [
    "> $ pip install -U Flask-SQLAlchemy"
   ]
  },
  {
   "cell_type": "markdown",
   "id": "2af64e86-8b3a-462e-a4f6-ec5cc862cfda",
   "metadata": {},
   "source": [
    "**OBS:** Lembre-se de instalá-lo no ambiente virtual (venv) do seu projeto."
   ]
  },
  {
   "cell_type": "markdown",
   "id": "a76e836f-f4da-420a-aba7-f61c0cff7c84",
   "metadata": {},
   "source": [
    "### 3. Configurações iniciais do SQLAlchemy"
   ]
  },
  {
   "cell_type": "markdown",
   "id": "6e105fe6-1b6a-40a5-a4b4-92326af28f01",
   "metadata": {},
   "source": [
    "* Imports e Declarações iniciais"
   ]
  },
  {
   "cell_type": "markdown",
   "id": "71c47f2e-5ab5-42fd-a7a4-53ff6132a04d",
   "metadata": {},
   "source": [
    "```\n",
    "import os.path\n",
    "\n",
    "from flask import Flask\n",
    "from flask_sqlalchemy import SQLAlchemy # (Import principal do SQLAlchemy)\n",
    "\n",
    "basedir = os.path.abspath(os.path.dirname(__file__))\n",
    "\n",
    "app = Flask(__name__)\n",
    "app.config['SQLALCHEMY_DATABASE_URI'] = 'sqlite:///' + os.path.join(basedir, 'posts_twitter.db') # (Banco de Dados SQLite)\n",
    "db = SQLAlchemy(app) # (Criando uma instância padrão db)\n",
    "```"
   ]
  },
  {
   "cell_type": "markdown",
   "id": "0f3e0684-3dfa-43e3-9cba-d91572e08f08",
   "metadata": {},
   "source": [
    "* A configuração acima deve ser declarada no arquivo \"app/__ init __.py\""
   ]
  },
  {
   "cell_type": "markdown",
   "id": "f1665b8a-1918-4fe3-8e1f-034e61bd904f",
   "metadata": {},
   "source": [
    "### 4. Trabalhando com Models no SQLAlchemy (arquivo tables.py)"
   ]
  },
  {
   "cell_type": "markdown",
   "id": "cc5e6e6f-7d00-41f8-843b-50e74a85938c",
   "metadata": {},
   "source": [
    "```\n",
    "from app import db\n",
    "\n",
    "class User(db.Model):\n",
    "    _tablename_ = \"users\"\n",
    "    id = db.Column(db.Integer, primary_key=True)\n",
    "    username = db.Column(db.String, unique=True)\n",
    "    password = db.Column(db.String(20))\n",
    "    name = db.Column(db.String(300))\n",
    "    email = db.Column(db.String, unique=True, nullable=False)\n",
    "\n",
    "    def __init__(self, username, password, name, email):\n",
    "        self.username = username\n",
    "        self.password = password\n",
    "        self.name = name\n",
    "        self.email = email\n",
    "\n",
    "    # Representação (representation) - Define como o User será representado\n",
    "    def __repr__(self):\n",
    "        return '<User %r>' % self.username\n",
    "```"
   ]
  },
  {
   "cell_type": "markdown",
   "id": "7cb16118-1df4-4f5b-bfd7-c7567ec970ee",
   "metadata": {},
   "source": [
    "### 5. Migrações no Bancos de Dados"
   ]
  },
  {
   "cell_type": "markdown",
   "id": "153a36b2-7260-4240-bcc1-2dbc77304108",
   "metadata": {},
   "source": [
    "* Módulo Flask-Migrate: https://flask-migrate.readthedocs.io/en/latest/\n",
    "> **Instalando:** $ pip install Flask-Migrate\n",
    "\n",
    "* Módulo Flask-Script: https://flask-script.readthedocs.io/en/latest/\n",
    "> Fornece suporte para escrever scripts externos no Flask. <br/>\n",
    "> **Instalando:** $ pip install Flask-Script"
   ]
  },
  {
   "cell_type": "markdown",
   "id": "3ffa07b0-96dd-4b6f-89fa-56b2cc1064e3",
   "metadata": {},
   "source": [
    "* Realizando os **imports** do Flask-Migrate e Flask-Script no arquivo 'app/__ init __.py'"
   ]
  },
  {
   "cell_type": "markdown",
   "id": "167f5980-ac9f-472d-b596-b3e78671a348",
   "metadata": {},
   "source": [
    "> from flask_migrate import Migrate <br />\n",
    "> from flask_script import Manager, MigrateCommand <== Não funcionou"
   ]
  },
  {
   "cell_type": "markdown",
   "id": "8da3983c-5a8c-4620-80af-5a193649ca51",
   "metadata": {},
   "source": [
    "* Instanciando o Script e o Migrate"
   ]
  },
  {
   "cell_type": "markdown",
   "id": "6fab0daa-3dae-4277-9daa-3dd0db480e17",
   "metadata": {},
   "source": [
    "```\n",
    "...\n",
    "migrate = Migrate(app, db) # Instancia o Migrate\n",
    "\n",
    "# O Manager se preocupa com os comandos de inicialização\n",
    "manager = Manager(app) <== Não funcionou\n",
    "manager.add_command('db', MigrateCommand) <== Não funcionou\n",
    "...\n",
    "```"
   ]
  },
  {
   "cell_type": "markdown",
   "id": "494ba13c-57e0-4b2e-92d4-6ef9d08e3c47",
   "metadata": {},
   "source": [
    "* Com o Manager instanciado o arquivo \"run.py\" poderá  ser alterado "
   ]
  },
  {
   "cell_type": "markdown",
   "id": "8371be31-4e56-4a47-ab7a-0a74d53559c3",
   "metadata": {},
   "source": [
    "Alterando a forma de execução da aplicação para adicionar comandos a ela:\n",
    "\n",
    "> from app import manager <br/><br/>\n",
    "if __ name __ == \"__ main __\":    \n",
    "......manager.run()"
   ]
  },
  {
   "cell_type": "markdown",
   "id": "7c0574fa-056d-4b77-9fab-a075aca97cb6",
   "metadata": {},
   "source": [
    "* Criando o banco de dados e as respectivas tabelas somente quando o app estiver pronto"
   ]
  },
  {
   "cell_type": "markdown",
   "id": "40f48b02-5718-40f0-a413-f6514e939a08",
   "metadata": {},
   "source": [
    "> if __ name __ == \"__ main __\":   <br/>\n",
    "......db.init_app(app=app) <br/>\n",
    "............with app.test_request_context(): <br/>\n",
    "..................db.create_all() <br/>\n",
    "......app.run()"
   ]
  },
  {
   "cell_type": "markdown",
   "id": "711d0d86-fea0-47e6-b05d-39b2cc2d2b6c",
   "metadata": {},
   "source": [
    "* Comandos diversos - após configuração acima"
   ]
  },
  {
   "cell_type": "markdown",
   "id": "bd04c122-921f-42f8-be2e-d43e767593c8",
   "metadata": {},
   "source": [
    "```\n",
    "$ flask db init # Inicia o arquivo SQLite em ...\n",
    ".../flask-api/migrations/<arquivos de migração e tabela alembic>\n",
    "\n",
    "$ flask db migrate -m \"Initial migration.\"\n",
    "\n",
    "$ flask db upgrade \n",
    "\n",
    "- Com isso, será criado o arquivo \"posts_twitter\" na raiz do projeto.\n",
    "```"
   ]
  },
  {
   "cell_type": "markdown",
   "id": "fc08ed0d-e547-4f92-b819-2e7709b677c8",
   "metadata": {},
   "source": [
    "### 6. Configurações relacionadas ao Banco de Dados"
   ]
  },
  {
   "cell_type": "markdown",
   "id": "4f4a6294-39ab-4e23-9268-6d2f7368ddad",
   "metadata": {},
   "source": [
    "* Arquivo de Configuração `config.py` na raiz do projeto"
   ]
  },
  {
   "cell_type": "markdown",
   "id": "93cf9b67-a35d-4e9e-bc9a-0d9eac2a37c9",
   "metadata": {},
   "source": [
    "> DEBUG = True # Enquanto estiver desenvolvendo - ativa a atualização e compilação automática\n",
    "\n",
    "> SQLALCHEMY_DATABASE_URI = 'sqlite:///posts_twitter.db' <br/>\n",
    "> SQLALCHEMY_TRACK_MODIFICATIONS = True"
   ]
  },
  {
   "cell_type": "markdown",
   "id": "55ebedba-f766-4878-8980-de2eac0007dc",
   "metadata": {},
   "source": [
    "* Importanto o arquivo `config.py` dentro do `app/__ init __.py`"
   ]
  },
  {
   "cell_type": "markdown",
   "id": "5741afa9-5d6e-45f5-af41-d72bf210bb93",
   "metadata": {},
   "source": [
    "> ```app.config.from_object('config')```"
   ]
  }
 ],
 "metadata": {
  "kernelspec": {
   "display_name": "Python 3 (ipykernel)",
   "language": "python",
   "name": "python3"
  },
  "language_info": {
   "codemirror_mode": {
    "name": "ipython",
    "version": 3
   },
   "file_extension": ".py",
   "mimetype": "text/x-python",
   "name": "python",
   "nbconvert_exporter": "python",
   "pygments_lexer": "ipython3",
   "version": "3.8.10"
  }
 },
 "nbformat": 4,
 "nbformat_minor": 5
}
