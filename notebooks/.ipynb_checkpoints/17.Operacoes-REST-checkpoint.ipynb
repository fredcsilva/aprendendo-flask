{
 "cells": [
  {
   "cell_type": "markdown",
   "id": "b8e46d26-f00d-4f63-acdb-714871e5204e",
   "metadata": {},
   "source": [
    "# Operações REST"
   ]
  },
  {
   "cell_type": "markdown",
   "id": "957affef-172b-436b-997b-ecadf5d3c4d0",
   "metadata": {},
   "source": [
    "### 1. Aqui"
   ]
  },
  {
   "cell_type": "code",
   "execution_count": null,
   "id": "9df4264f-f24e-493f-9337-2eacaae5bb8d",
   "metadata": {},
   "outputs": [],
   "source": []
  }
 ],
 "metadata": {
  "kernelspec": {
   "display_name": "Python 3 (ipykernel)",
   "language": "python",
   "name": "python3"
  },
  "language_info": {
   "codemirror_mode": {
    "name": "ipython",
    "version": 3
   },
   "file_extension": ".py",
   "mimetype": "text/x-python",
   "name": "python",
   "nbconvert_exporter": "python",
   "pygments_lexer": "ipython3",
   "version": "3.8.10"
  }
 },
 "nbformat": 4,
 "nbformat_minor": 5
}
