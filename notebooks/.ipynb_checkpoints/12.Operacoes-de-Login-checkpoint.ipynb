{
 "cells": [
  {
   "cell_type": "markdown",
   "id": "470f4b20-37e2-4031-b982-0aae758d638e",
   "metadata": {},
   "source": [
    "# Operações de Login"
   ]
  },
  {
   "cell_type": "markdown",
   "id": "2622cc59-4084-4659-aa7c-27bd6a6e861f",
   "metadata": {},
   "source": [
    "### 1. Biblioteca Flask-Login"
   ]
  },
  {
   "cell_type": "markdown",
   "id": "448bc819-33da-4d11-8cb7-6aa60a19f2bd",
   "metadata": {},
   "source": [
    "Uma biblioteca que nos ajuda a gerenciar a sessão do usuário.\n",
    "Link: https://flask-login.readthedocs.io/en/latest/"
   ]
  },
  {
   "cell_type": "markdown",
   "id": "8870a239-ddf2-48a3-9f95-39d6ecb2e23b",
   "metadata": {},
   "source": [
    "* Instalação do Flask-login"
   ]
  },
  {
   "cell_type": "markdown",
   "id": "9d76c81a-c229-4624-8db3-96a9a1fee0dd",
   "metadata": {},
   "source": [
    "> $ `pip install flask-login`"
   ]
  },
  {
   "cell_type": "markdown",
   "id": "608d7f84-ba68-4647-9c42-cc8d323ba406",
   "metadata": {},
   "source": [
    "* Importa LoginManager do Flask-Login no arquivo `__ init __.py`do diretório `/app`"
   ]
  },
  {
   "cell_type": "markdown",
   "id": "0a6d5e01-2230-45fe-a96b-b1782c874df6",
   "metadata": {},
   "source": [
    "> from flask-login import LoginManager <br/><br/>\n",
    "login_manager = LoginManager()<br/>\n",
    "login_manager.init_app(app)<br/>\n"
   ]
  },
  {
   "cell_type": "markdown",
   "id": "805fbbff-2de6-414d-a8fd-a65bb9fa81d2",
   "metadata": {},
   "source": [
    "* Altera a classe `User` em `/models/tables.py`"
   ]
  },
  {
   "cell_type": "markdown",
   "id": "afae621a-8217-47ce-9b4b-6d4ca22dda05",
   "metadata": {},
   "source": [
    "> E implemente os seguintes métodos:\n",
    "```\n",
    "1. is_authenticated\n",
    "2. is_active\n",
    "3. get_id()\n",
    "```"
   ]
  },
  {
   "cell_type": "markdown",
   "id": "5942740a-51bb-4f0f-9982-7c19c28e2e2a",
   "metadata": {},
   "source": [
    "* Exemplo Básico"
   ]
  },
  {
   "cell_type": "raw",
   "id": "b76ebfaf-d8e3-4bd2-8a94-98ffb613df29",
   "metadata": {},
   "source": [
    "@app.route('/login', methods=['GET', 'POST'])\n",
    "def login():\n",
    "    # Here we use a class of some kind to represent and validate our\n",
    "    # client-side form data. For example, WTForms is a library that will\n",
    "    # handle this for us, and we use a custom LoginForm to validate.\n",
    "    form = LoginForm()\n",
    "    if form.validate_on_submit():\n",
    "        # Login and validate the user.\n",
    "        # user should be an instance of your `User` class\n",
    "        login_user(user)\n",
    "\n",
    "        flask.flash('Logged in successfully.')\n",
    "\n",
    "        next = flask.request.args.get('next')\n",
    "        # is_safe_url should check if the url is safe for redirects.\n",
    "        # See http://flask.pocoo.org/snippets/62/ for an example.\n",
    "        if not is_safe_url(next):\n",
    "            return flask.abort(400)\n",
    "\n",
    "        return flask.redirect(next or flask.url_for('index'))\n",
    "    return flask.render_template('login.html', form=form)"
   ]
  },
  {
   "cell_type": "markdown",
   "id": "18fbb635-2d4c-410c-9ac8-319ce97d9b7b",
   "metadata": {},
   "source": [
    "### 2. Validando Usuário, efetuando Login e apresentando mensagens de erro"
   ]
  },
  {
   "cell_type": "markdown",
   "id": "b2a37331-6cd5-49cb-b1d4-e9a6a70db1da",
   "metadata": {},
   "source": [
    "from flask import flash, redirect, url_for\n",
    "from flask_login import login_user\n",
    "\n",
    "\n",
    "```\n",
    "   @app.route(\"/login\", methods=['GET', 'POST'])\n",
    "    def login_user():\n",
    "        ...                \n",
    "        if form.validate_on_submit():\n",
    "            user = User.query.filter_by(username=form.username.data).first()\n",
    "            if user && user.password == form.password.data:\n",
    "                login_user(user)\n",
    "                flash(\"Logged in\")\n",
    "                return redirect(url_for('index')) # Nome da função Ex: \"login_user\") e não da url (\"/login\")\n",
    "            else:\n",
    "                flash(\"Invalid Login.\")            \n",
    "        ...\n",
    "```"
   ]
  },
  {
   "cell_type": "code",
   "execution_count": null,
   "id": "e6d6605a-4ce7-4ee8-bbd4-03e115f6e115",
   "metadata": {},
   "outputs": [],
   "source": []
  }
 ],
 "metadata": {
  "kernelspec": {
   "display_name": "Python 3 (ipykernel)",
   "language": "python",
   "name": "python3"
  },
  "language_info": {
   "codemirror_mode": {
    "name": "ipython",
    "version": 3
   },
   "file_extension": ".py",
   "mimetype": "text/x-python",
   "name": "python",
   "nbconvert_exporter": "python",
   "pygments_lexer": "ipython3",
   "version": "3.8.10"
  }
 },
 "nbformat": 4,
 "nbformat_minor": 5
}
