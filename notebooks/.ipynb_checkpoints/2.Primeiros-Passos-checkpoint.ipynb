{
 "cells": [
  {
   "cell_type": "markdown",
   "id": "92c96824-e585-42e3-9323-d78d780c3892",
   "metadata": {},
   "source": [
    "# Primeiros Passos"
   ]
  },
  {
   "cell_type": "markdown",
   "id": "b41f2be1-760c-4e8b-943e-fce7c3ba7468",
   "metadata": {},
   "source": [
    "### 1. Antes de tudo"
   ]
  },
  {
   "cell_type": "markdown",
   "id": "82e4d22e-0cc6-4ec2-aa08-06b438d27965",
   "metadata": {},
   "source": [
    "**Importe a classe do Flask**\n",
    "> `from flask import Flask`\n",
    "\n",
    "**Obtenha uma instância de Flask**\n",
    "> `app = Flask(__name__)`\n",
    "\n",
    "**Configurações padrões**\n",
    "> `if __name__ == '__main__':`\n",
    "<br/>\n",
    "> `   app.run()`\n",
    "        \n",
    "**Decorator \"route(...)\"... aplica uma função em outra, ou seja, aplica a função route em index(). Define uma rota para a minha página**\n",
    "> `@app.route(\"/\")`\n",
    "<br/>\n",
    "> `def index():`\n",
    "<br/>\n",
    "> `   return \"Uma rota 'Index' inicial do Flask.\"`\n",
    "\n",
    "\n",
    "\n"
   ]
  },
  {
   "cell_type": "markdown",
   "id": "cd208a0f-1500-4f3c-8083-e93bf16049df",
   "metadata": {},
   "source": [
    "### 2. Exemplo Básico"
   ]
  },
  {
   "cell_type": "markdown",
   "id": "af419c7c-8ca2-4e32-b69a-fd2a088b22ac",
   "metadata": {},
   "source": [
    "- Crie o arquivo ```app.py```\n",
    "- Acrescente o código abaixo"
   ]
  },
  {
   "cell_type": "raw",
   "id": "c004fd4e-723a-4fab-b047-80cad5c67990",
   "metadata": {},
   "source": [
    "# importação principal\n",
    "from flask import Flask\n",
    "\n",
    "# Definindo o App\n",
    "app = Flask(__name__)\n",
    "\n",
    "# Criando uma rota... há duas maneiras de fazer isso: Decorator ou Por Função\n",
    "@app.route(\"/\")\n",
    "def index():\n",
    "    return \"Uma rota 'Index' inicial do Flask.\"\n",
    "\n",
    "# Verifica se a aplicação que está sendo executada é a principal\n",
    "if __name__ == '__main__':\n",
    "    app.run()"
   ]
  },
  {
   "cell_type": "markdown",
   "id": "1125e58b-69ef-4fda-9ed2-4082c2b9a063",
   "metadata": {},
   "source": [
    "### 3. Parâmetros para o \"app.run()\""
   ]
  },
  {
   "cell_type": "markdown",
   "id": "e9c5a0fe-60a6-4750-b137-b1dd5cb60f58",
   "metadata": {},
   "source": [
    "> `app.run(debug=True, port=8081, host='127.0.0.1')`"
   ]
  },
  {
   "cell_type": "markdown",
   "id": "507594bd-1f00-4c67-8bd4-36bdbd9de873",
   "metadata": {},
   "source": [
    "### 3. Criando rotas por meio de \"regras\""
   ]
  },
  {
   "cell_type": "markdown",
   "id": "e4c844ab-9299-412c-8757-8cfb5c115155",
   "metadata": {},
   "source": [
    "> `\n",
    "    def minhaRotaTeste(self):\n",
    "        return '<h3>Rota Teste</h3>'\n",
    "`"
   ]
  },
  {
   "cell_type": "markdown",
   "id": "853a6928-947f-491e-a70e-0524a05a0418",
   "metadata": {},
   "source": [
    "> `app.add_url_rule('/rotateste', \"rotateste\", minhaRotaTeste)`\n",
    "<br/>\n",
    "**Parâmetros:**\n",
    "<br/>\n",
    "**/rotateste:** Nome da rota na url; \n",
    "<br/>\n",
    "**rotateste:** Nome da rota; \n",
    "<br/>\n",
    "**minhaRotaTeste**: A função que a rota irá executar"
   ]
  },
  {
   "cell_type": "markdown",
   "id": "6cbc8725-be2e-438c-aae9-04f372db06a8",
   "metadata": {},
   "source": [
    "### 4. Modelo MVC"
   ]
  },
  {
   "cell_type": "markdown",
   "id": "ea7b70fa-7482-4d7f-8384-abb270c3aa21",
   "metadata": {},
   "source": [
    "![image info](./images/mvc_model.png)"
   ]
  },
  {
   "cell_type": "code",
   "execution_count": null,
   "id": "048fdf16-6412-44d2-8c07-f75c1fe1aa92",
   "metadata": {},
   "outputs": [],
   "source": []
  }
 ],
 "metadata": {
  "kernelspec": {
   "display_name": "Python 3 (ipykernel)",
   "language": "python",
   "name": "python3"
  },
  "language_info": {
   "codemirror_mode": {
    "name": "ipython",
    "version": 3
   },
   "file_extension": ".py",
   "mimetype": "text/x-python",
   "name": "python",
   "nbconvert_exporter": "python",
   "pygments_lexer": "ipython3",
   "version": "3.8.10"
  }
 },
 "nbformat": 4,
 "nbformat_minor": 5
}
