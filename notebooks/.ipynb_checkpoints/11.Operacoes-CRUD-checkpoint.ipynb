{
 "cells": [
  {
   "cell_type": "markdown",
   "id": "84f89e9a-11e0-459c-ba5e-90f87cfbd1ee",
   "metadata": {},
   "source": [
    "# Operações CRUD - SQLAlchemy"
   ]
  },
  {
   "cell_type": "markdown",
   "id": "566aea70-c303-4f53-8d98-1a6ee4806cca",
   "metadata": {},
   "source": [
    "### 1. Operação CREATE"
   ]
  },
  {
   "cell_type": "markdown",
   "id": "96f49bb8-ea84-463f-a3db-4c45dca2b7ad",
   "metadata": {},
   "source": [
    "1. Importe as tabelas na sua classe (preferencialmente no `__ init __.py` <br/>\n",
    "> **from app.models import tables**\n",
    "2. Instancie um objeto python que representa uma tabela no banco de dados <br/>\n",
    "> **user = User(...)**\n",
    "3. Crie uma sessão <br/>\n",
    "> **db.session.add(user)**\n",
    "4. Commite uma sessão  <br/>\n",
    "> **db.session.commit()**"
   ]
  },
  {
   "cell_type": "markdown",
   "id": "487db716-4ba3-4501-853b-2f07c852d580",
   "metadata": {},
   "source": [
    "### 2. Operação READ"
   ]
  },
  {
   "cell_type": "markdown",
   "id": "7ecd5ab0-5ba2-403d-a55e-2fabeec47add",
   "metadata": {},
   "source": [
    "> result_query = User.query.filter_by(username=\"fred\").all()"
   ]
  },
  {
   "cell_type": "markdown",
   "id": "df8a5a7f-7001-448e-89f3-f82a235692ba",
   "metadata": {},
   "source": [
    "### 3. Operação UPDATE"
   ]
  },
  {
   "cell_type": "markdown",
   "id": "b8fab897-db36-420f-878c-04c07d16dcea",
   "metadata": {},
   "source": [
    "> ```\n",
    "result_query = User.query.filter_by(username=\"fred\").first()\n",
    "result_query.username = \"Um nome alterado\"\n",
    "db.session.add(result_query)\n",
    "db.session.commit()\n",
    "```"
   ]
  },
  {
   "cell_type": "markdown",
   "id": "c05b6903-6a7d-4988-862e-eeacb1b78df4",
   "metadata": {},
   "source": [
    "### 4. Operação DELETE"
   ]
  },
  {
   "cell_type": "markdown",
   "id": "bd62f410-6afa-48e6-9dd9-0344060ac333",
   "metadata": {},
   "source": [
    "> ```\n",
    "result_query = User.query.filter_by(username=\"fred\").first()\n",
    "db.session.delete(result_query)\n",
    "db.session.commit()\n",
    "```"
   ]
  },
  {
   "cell_type": "code",
   "execution_count": null,
   "id": "4c097234-384c-4926-9d84-ae436518d57a",
   "metadata": {},
   "outputs": [],
   "source": []
  }
 ],
 "metadata": {
  "kernelspec": {
   "display_name": "Python 3 (ipykernel)",
   "language": "python",
   "name": "python3"
  },
  "language_info": {
   "codemirror_mode": {
    "name": "ipython",
    "version": 3
   },
   "file_extension": ".py",
   "mimetype": "text/x-python",
   "name": "python",
   "nbconvert_exporter": "python",
   "pygments_lexer": "ipython3",
   "version": "3.8.10"
  }
 },
 "nbformat": 4,
 "nbformat_minor": 5
}
